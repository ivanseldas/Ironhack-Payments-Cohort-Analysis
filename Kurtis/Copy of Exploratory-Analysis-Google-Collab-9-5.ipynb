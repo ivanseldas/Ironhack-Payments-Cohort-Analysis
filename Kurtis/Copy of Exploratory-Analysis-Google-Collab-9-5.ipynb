{
 "cells": [
  {
   "cell_type": "code",
   "execution_count": 1,
   "metadata": {
    "executionInfo": {
     "elapsed": 247,
     "status": "ok",
     "timestamp": 1715261854773,
     "user": {
      "displayName": "Kurtis Walton",
      "userId": "12535862951789694735"
     },
     "user_tz": -120
    },
    "id": "1-IY8vG76tz9"
   },
   "outputs": [],
   "source": [
    "import pandas as pd\n",
    "import numpy as np\n",
    "import seaborn as sns\n",
    "import matplotlib.pyplot as plt\n",
    "plt.style.use('ggplot') #Style sheet"
   ]
  },
  {
   "cell_type": "code",
   "execution_count": 2,
   "metadata": {
    "executionInfo": {
     "elapsed": 924,
     "status": "ok",
     "timestamp": 1715261856054,
     "user": {
      "displayName": "Kurtis Walton",
      "userId": "12535862951789694735"
     },
     "user_tz": -120
    },
    "id": "QStb8mG9-Qpj"
   },
   "outputs": [],
   "source": [
    "# Load datasets\n",
    "cash = pd.read_csv('https://raw.githubusercontent.com/kurtisjw/project-1-ironhack-payments-es/main/project_dataset/extract%20-%20cash%20request%20-%20data%20analyst.csv')\n",
    "fees = pd.read_csv('https://raw.githubusercontent.com/kurtisjw/project-1-ironhack-payments-es/main/project_dataset/extract%20-%20fees%20-%20data%20analyst%20-%20.csv')"
   ]
  },
  {
   "cell_type": "code",
   "execution_count": 6,
   "metadata": {
    "colab": {
     "base_uri": "https://localhost:8080/",
     "height": 309
    },
    "executionInfo": {
     "elapsed": 480,
     "status": "ok",
     "timestamp": 1715261856532,
     "user": {
      "displayName": "Kurtis Walton",
      "userId": "12535862951789694735"
     },
     "user_tz": -120
    },
    "id": "ewJuJMQs_Eah",
    "outputId": "eb8cc2d2-15e1-4f92-f992-aa2a6b7a56c0"
   },
   "outputs": [
    {
     "data": {
      "text/html": [
       "<div>\n",
       "<style scoped>\n",
       "    .dataframe tbody tr th:only-of-type {\n",
       "        vertical-align: middle;\n",
       "    }\n",
       "\n",
       "    .dataframe tbody tr th {\n",
       "        vertical-align: top;\n",
       "    }\n",
       "\n",
       "    .dataframe thead th {\n",
       "        text-align: right;\n",
       "    }\n",
       "</style>\n",
       "<table border=\"1\" class=\"dataframe\">\n",
       "  <thead>\n",
       "    <tr style=\"text-align: right;\">\n",
       "      <th></th>\n",
       "      <th>id</th>\n",
       "      <th>amount</th>\n",
       "      <th>status</th>\n",
       "      <th>created_at</th>\n",
       "      <th>updated_at</th>\n",
       "      <th>user_id</th>\n",
       "      <th>moderated_at</th>\n",
       "      <th>deleted_account_id</th>\n",
       "      <th>reimbursement_date</th>\n",
       "      <th>cash_request_received_date</th>\n",
       "      <th>money_back_date</th>\n",
       "      <th>transfer_type</th>\n",
       "      <th>send_at</th>\n",
       "      <th>recovery_status</th>\n",
       "      <th>reco_creation</th>\n",
       "      <th>reco_last_update</th>\n",
       "    </tr>\n",
       "  </thead>\n",
       "  <tbody>\n",
       "    <tr>\n",
       "      <th>0</th>\n",
       "      <td>5</td>\n",
       "      <td>100.0</td>\n",
       "      <td>rejected</td>\n",
       "      <td>2019-12-10 19:05:21.596873+00</td>\n",
       "      <td>2019-12-11 16:47:42.40783+00</td>\n",
       "      <td>804.0</td>\n",
       "      <td>2019-12-11 16:47:42.405646+00</td>\n",
       "      <td>NaN</td>\n",
       "      <td>2020-01-09 19:05:21.596363+00</td>\n",
       "      <td>NaN</td>\n",
       "      <td>NaN</td>\n",
       "      <td>regular</td>\n",
       "      <td>NaN</td>\n",
       "      <td>NaN</td>\n",
       "      <td>NaN</td>\n",
       "      <td>NaN</td>\n",
       "    </tr>\n",
       "    <tr>\n",
       "      <th>1</th>\n",
       "      <td>70</td>\n",
       "      <td>100.0</td>\n",
       "      <td>rejected</td>\n",
       "      <td>2019-12-10 19:50:12.34778+00</td>\n",
       "      <td>2019-12-11 14:24:22.900054+00</td>\n",
       "      <td>231.0</td>\n",
       "      <td>2019-12-11 14:24:22.897988+00</td>\n",
       "      <td>NaN</td>\n",
       "      <td>2020-01-09 19:50:12.34778+00</td>\n",
       "      <td>NaN</td>\n",
       "      <td>NaN</td>\n",
       "      <td>regular</td>\n",
       "      <td>NaN</td>\n",
       "      <td>NaN</td>\n",
       "      <td>NaN</td>\n",
       "      <td>NaN</td>\n",
       "    </tr>\n",
       "    <tr>\n",
       "      <th>2</th>\n",
       "      <td>7</td>\n",
       "      <td>100.0</td>\n",
       "      <td>rejected</td>\n",
       "      <td>2019-12-10 19:13:35.82546+00</td>\n",
       "      <td>2019-12-11 09:46:59.779773+00</td>\n",
       "      <td>191.0</td>\n",
       "      <td>2019-12-11 09:46:59.777728+00</td>\n",
       "      <td>NaN</td>\n",
       "      <td>2020-01-09 19:13:35.825041+00</td>\n",
       "      <td>NaN</td>\n",
       "      <td>NaN</td>\n",
       "      <td>regular</td>\n",
       "      <td>NaN</td>\n",
       "      <td>NaN</td>\n",
       "      <td>NaN</td>\n",
       "      <td>NaN</td>\n",
       "    </tr>\n",
       "    <tr>\n",
       "      <th>3</th>\n",
       "      <td>10</td>\n",
       "      <td>99.0</td>\n",
       "      <td>rejected</td>\n",
       "      <td>2019-12-10 19:16:10.880172+00</td>\n",
       "      <td>2019-12-18 14:26:18.136163+00</td>\n",
       "      <td>761.0</td>\n",
       "      <td>2019-12-18 14:26:18.128407+00</td>\n",
       "      <td>NaN</td>\n",
       "      <td>2020-01-09 19:16:10.879606+00</td>\n",
       "      <td>NaN</td>\n",
       "      <td>NaN</td>\n",
       "      <td>regular</td>\n",
       "      <td>NaN</td>\n",
       "      <td>NaN</td>\n",
       "      <td>NaN</td>\n",
       "      <td>NaN</td>\n",
       "    </tr>\n",
       "    <tr>\n",
       "      <th>4</th>\n",
       "      <td>1594</td>\n",
       "      <td>100.0</td>\n",
       "      <td>rejected</td>\n",
       "      <td>2020-05-06 09:59:38.877376+00</td>\n",
       "      <td>2020-05-07 09:21:55.34008+00</td>\n",
       "      <td>7686.0</td>\n",
       "      <td>2020-05-07 09:21:55.320193+00</td>\n",
       "      <td>NaN</td>\n",
       "      <td>2020-06-05 22:00:00+00</td>\n",
       "      <td>NaN</td>\n",
       "      <td>NaN</td>\n",
       "      <td>regular</td>\n",
       "      <td>NaN</td>\n",
       "      <td>NaN</td>\n",
       "      <td>NaN</td>\n",
       "      <td>NaN</td>\n",
       "    </tr>\n",
       "  </tbody>\n",
       "</table>\n",
       "</div>"
      ],
      "text/plain": [
       "     id  amount    status                     created_at  \\\n",
       "0     5   100.0  rejected  2019-12-10 19:05:21.596873+00   \n",
       "1    70   100.0  rejected   2019-12-10 19:50:12.34778+00   \n",
       "2     7   100.0  rejected   2019-12-10 19:13:35.82546+00   \n",
       "3    10    99.0  rejected  2019-12-10 19:16:10.880172+00   \n",
       "4  1594   100.0  rejected  2020-05-06 09:59:38.877376+00   \n",
       "\n",
       "                      updated_at  user_id                   moderated_at  \\\n",
       "0   2019-12-11 16:47:42.40783+00    804.0  2019-12-11 16:47:42.405646+00   \n",
       "1  2019-12-11 14:24:22.900054+00    231.0  2019-12-11 14:24:22.897988+00   \n",
       "2  2019-12-11 09:46:59.779773+00    191.0  2019-12-11 09:46:59.777728+00   \n",
       "3  2019-12-18 14:26:18.136163+00    761.0  2019-12-18 14:26:18.128407+00   \n",
       "4   2020-05-07 09:21:55.34008+00   7686.0  2020-05-07 09:21:55.320193+00   \n",
       "\n",
       "   deleted_account_id             reimbursement_date  \\\n",
       "0                 NaN  2020-01-09 19:05:21.596363+00   \n",
       "1                 NaN   2020-01-09 19:50:12.34778+00   \n",
       "2                 NaN  2020-01-09 19:13:35.825041+00   \n",
       "3                 NaN  2020-01-09 19:16:10.879606+00   \n",
       "4                 NaN         2020-06-05 22:00:00+00   \n",
       "\n",
       "  cash_request_received_date money_back_date transfer_type send_at  \\\n",
       "0                        NaN             NaN       regular     NaN   \n",
       "1                        NaN             NaN       regular     NaN   \n",
       "2                        NaN             NaN       regular     NaN   \n",
       "3                        NaN             NaN       regular     NaN   \n",
       "4                        NaN             NaN       regular     NaN   \n",
       "\n",
       "  recovery_status reco_creation reco_last_update  \n",
       "0             NaN           NaN              NaN  \n",
       "1             NaN           NaN              NaN  \n",
       "2             NaN           NaN              NaN  \n",
       "3             NaN           NaN              NaN  \n",
       "4             NaN           NaN              NaN  "
      ]
     },
     "execution_count": 6,
     "metadata": {},
     "output_type": "execute_result"
    }
   ],
   "source": [
    "cash.head(5)"
   ]
  },
  {
   "cell_type": "code",
   "execution_count": 7,
   "metadata": {
    "colab": {
     "base_uri": "https://localhost:8080/",
     "height": 530
    },
    "executionInfo": {
     "elapsed": 1295,
     "status": "ok",
     "timestamp": 1715261858899,
     "user": {
      "displayName": "Kurtis Walton",
      "userId": "12535862951789694735"
     },
     "user_tz": -120
    },
    "id": "-3gYRQGKApw3",
    "outputId": "794850ee-a056-46e5-f389-7245adcf043d"
   },
   "outputs": [
    {
     "data": {
      "text/html": [
       "<div>\n",
       "<style scoped>\n",
       "    .dataframe tbody tr th:only-of-type {\n",
       "        vertical-align: middle;\n",
       "    }\n",
       "\n",
       "    .dataframe tbody tr th {\n",
       "        vertical-align: top;\n",
       "    }\n",
       "\n",
       "    .dataframe thead th {\n",
       "        text-align: right;\n",
       "    }\n",
       "</style>\n",
       "<table border=\"1\" class=\"dataframe\">\n",
       "  <thead>\n",
       "    <tr style=\"text-align: right;\">\n",
       "      <th></th>\n",
       "      <th>id</th>\n",
       "      <th>cash_request_id</th>\n",
       "      <th>type</th>\n",
       "      <th>status</th>\n",
       "      <th>category</th>\n",
       "      <th>total_amount</th>\n",
       "      <th>reason</th>\n",
       "      <th>created_at</th>\n",
       "      <th>updated_at</th>\n",
       "      <th>paid_at</th>\n",
       "      <th>from_date</th>\n",
       "      <th>to_date</th>\n",
       "      <th>charge_moment</th>\n",
       "    </tr>\n",
       "  </thead>\n",
       "  <tbody>\n",
       "    <tr>\n",
       "      <th>0</th>\n",
       "      <td>6537</td>\n",
       "      <td>14941.0</td>\n",
       "      <td>instant_payment</td>\n",
       "      <td>rejected</td>\n",
       "      <td>NaN</td>\n",
       "      <td>5.0</td>\n",
       "      <td>Instant Payment Cash Request 14941</td>\n",
       "      <td>2020-09-07 10:47:27.42315+00</td>\n",
       "      <td>2020-10-13 14:25:09.396112+00</td>\n",
       "      <td>2020-12-17 14:50:07.47011+00</td>\n",
       "      <td>NaN</td>\n",
       "      <td>NaN</td>\n",
       "      <td>after</td>\n",
       "    </tr>\n",
       "    <tr>\n",
       "      <th>1</th>\n",
       "      <td>6961</td>\n",
       "      <td>11714.0</td>\n",
       "      <td>incident</td>\n",
       "      <td>accepted</td>\n",
       "      <td>rejected_direct_debit</td>\n",
       "      <td>5.0</td>\n",
       "      <td>rejected direct debit</td>\n",
       "      <td>2020-09-09 20:51:17.998653+00</td>\n",
       "      <td>2020-10-13 14:25:15.537063+00</td>\n",
       "      <td>2020-12-08 17:13:10.45908+00</td>\n",
       "      <td>NaN</td>\n",
       "      <td>NaN</td>\n",
       "      <td>after</td>\n",
       "    </tr>\n",
       "    <tr>\n",
       "      <th>2</th>\n",
       "      <td>16296</td>\n",
       "      <td>23371.0</td>\n",
       "      <td>instant_payment</td>\n",
       "      <td>accepted</td>\n",
       "      <td>NaN</td>\n",
       "      <td>5.0</td>\n",
       "      <td>Instant Payment Cash Request 23371</td>\n",
       "      <td>2020-10-23 10:10:58.352972+00</td>\n",
       "      <td>2020-10-23 10:10:58.352994+00</td>\n",
       "      <td>2020-11-04 19:34:37.43291+00</td>\n",
       "      <td>NaN</td>\n",
       "      <td>NaN</td>\n",
       "      <td>after</td>\n",
       "    </tr>\n",
       "    <tr>\n",
       "      <th>3</th>\n",
       "      <td>20775</td>\n",
       "      <td>26772.0</td>\n",
       "      <td>instant_payment</td>\n",
       "      <td>accepted</td>\n",
       "      <td>NaN</td>\n",
       "      <td>5.0</td>\n",
       "      <td>Instant Payment Cash Request 26772</td>\n",
       "      <td>2020-10-31 15:46:53.643958+00</td>\n",
       "      <td>2020-10-31 15:46:53.643982+00</td>\n",
       "      <td>2020-11-19 05:09:22.500223+00</td>\n",
       "      <td>NaN</td>\n",
       "      <td>NaN</td>\n",
       "      <td>after</td>\n",
       "    </tr>\n",
       "    <tr>\n",
       "      <th>4</th>\n",
       "      <td>11242</td>\n",
       "      <td>19350.0</td>\n",
       "      <td>instant_payment</td>\n",
       "      <td>accepted</td>\n",
       "      <td>NaN</td>\n",
       "      <td>5.0</td>\n",
       "      <td>Instant Payment Cash Request 19350</td>\n",
       "      <td>2020-10-06 08:20:17.170432+00</td>\n",
       "      <td>2020-10-13 14:25:03.267983+00</td>\n",
       "      <td>2020-11-02 14:45:20.355598+00</td>\n",
       "      <td>NaN</td>\n",
       "      <td>NaN</td>\n",
       "      <td>after</td>\n",
       "    </tr>\n",
       "  </tbody>\n",
       "</table>\n",
       "</div>"
      ],
      "text/plain": [
       "      id  cash_request_id             type    status               category  \\\n",
       "0   6537          14941.0  instant_payment  rejected                    NaN   \n",
       "1   6961          11714.0         incident  accepted  rejected_direct_debit   \n",
       "2  16296          23371.0  instant_payment  accepted                    NaN   \n",
       "3  20775          26772.0  instant_payment  accepted                    NaN   \n",
       "4  11242          19350.0  instant_payment  accepted                    NaN   \n",
       "\n",
       "   total_amount                              reason  \\\n",
       "0           5.0  Instant Payment Cash Request 14941   \n",
       "1           5.0               rejected direct debit   \n",
       "2           5.0  Instant Payment Cash Request 23371   \n",
       "3           5.0  Instant Payment Cash Request 26772   \n",
       "4           5.0  Instant Payment Cash Request 19350   \n",
       "\n",
       "                      created_at                     updated_at  \\\n",
       "0   2020-09-07 10:47:27.42315+00  2020-10-13 14:25:09.396112+00   \n",
       "1  2020-09-09 20:51:17.998653+00  2020-10-13 14:25:15.537063+00   \n",
       "2  2020-10-23 10:10:58.352972+00  2020-10-23 10:10:58.352994+00   \n",
       "3  2020-10-31 15:46:53.643958+00  2020-10-31 15:46:53.643982+00   \n",
       "4  2020-10-06 08:20:17.170432+00  2020-10-13 14:25:03.267983+00   \n",
       "\n",
       "                         paid_at from_date to_date charge_moment  \n",
       "0   2020-12-17 14:50:07.47011+00       NaN     NaN         after  \n",
       "1   2020-12-08 17:13:10.45908+00       NaN     NaN         after  \n",
       "2   2020-11-04 19:34:37.43291+00       NaN     NaN         after  \n",
       "3  2020-11-19 05:09:22.500223+00       NaN     NaN         after  \n",
       "4  2020-11-02 14:45:20.355598+00       NaN     NaN         after  "
      ]
     },
     "execution_count": 7,
     "metadata": {},
     "output_type": "execute_result"
    }
   ],
   "source": [
    "fees.head(5)"
   ]
  },
  {
   "cell_type": "code",
   "execution_count": 8,
   "metadata": {
    "colab": {
     "base_uri": "https://localhost:8080/"
    },
    "executionInfo": {
     "elapsed": 4,
     "status": "ok",
     "timestamp": 1715261859213,
     "user": {
      "displayName": "Kurtis Walton",
      "userId": "12535862951789694735"
     },
     "user_tz": -120
    },
    "id": "Y3sPNIOFimxI",
    "outputId": "43e5a693-5cc3-43d1-d764-06087a60dc66"
   },
   "outputs": [
    {
     "data": {
      "text/plain": [
       "(23970, 16)"
      ]
     },
     "execution_count": 8,
     "metadata": {},
     "output_type": "execute_result"
    }
   ],
   "source": [
    "# Display number of rows and columns in dataframe\n",
    "cash.shape"
   ]
  },
  {
   "cell_type": "code",
   "execution_count": 9,
   "metadata": {
    "colab": {
     "base_uri": "https://localhost:8080/"
    },
    "executionInfo": {
     "elapsed": 3,
     "status": "ok",
     "timestamp": 1715261859899,
     "user": {
      "displayName": "Kurtis Walton",
      "userId": "12535862951789694735"
     },
     "user_tz": -120
    },
    "id": "D8lz9Z9ThICB",
    "outputId": "65a4c44e-3ffc-4870-c997-f96a68ca8526"
   },
   "outputs": [
    {
     "data": {
      "text/plain": [
       "(21867, 16)"
      ]
     },
     "execution_count": 9,
     "metadata": {},
     "output_type": "execute_result"
    }
   ],
   "source": [
    "# Drop rows with no user_id\n",
    "\n",
    "cash = cash.dropna(subset = 'user_id')\n",
    "cash.shape"
   ]
  },
  {
   "cell_type": "code",
   "execution_count": 10,
   "metadata": {
    "colab": {
     "base_uri": "https://localhost:8080/"
    },
    "executionInfo": {
     "elapsed": 4,
     "status": "ok",
     "timestamp": 1715261860995,
     "user": {
      "displayName": "Kurtis Walton",
      "userId": "12535862951789694735"
     },
     "user_tz": -120
    },
    "id": "yt-BxFF-irXj",
    "outputId": "a3a0f715-8688-45eb-ff4a-b7c3e2cd482b"
   },
   "outputs": [
    {
     "data": {
      "text/plain": [
       "(21061, 13)"
      ]
     },
     "execution_count": 10,
     "metadata": {},
     "output_type": "execute_result"
    }
   ],
   "source": [
    "fees.shape"
   ]
  },
  {
   "cell_type": "code",
   "execution_count": 11,
   "metadata": {
    "colab": {
     "base_uri": "https://localhost:8080/"
    },
    "executionInfo": {
     "elapsed": 3,
     "status": "ok",
     "timestamp": 1715261861234,
     "user": {
      "displayName": "Kurtis Walton",
      "userId": "12535862951789694735"
     },
     "user_tz": -120
    },
    "id": "5gtvTZPTjF87",
    "outputId": "b380c2d5-d932-46d7-938a-90f70a28cb32"
   },
   "outputs": [
    {
     "data": {
      "text/plain": [
       "Index(['id', 'amount', 'status', 'created_at', 'updated_at', 'user_id',\n",
       "       'moderated_at', 'deleted_account_id', 'reimbursement_date',\n",
       "       'cash_request_received_date', 'money_back_date', 'transfer_type',\n",
       "       'send_at', 'recovery_status', 'reco_creation', 'reco_last_update'],\n",
       "      dtype='object')"
      ]
     },
     "execution_count": 11,
     "metadata": {},
     "output_type": "execute_result"
    }
   ],
   "source": [
    "# List columns in dataframe\n",
    "cash.columns"
   ]
  },
  {
   "cell_type": "code",
   "execution_count": 12,
   "metadata": {
    "colab": {
     "base_uri": "https://localhost:8080/"
    },
    "executionInfo": {
     "elapsed": 2,
     "status": "ok",
     "timestamp": 1715261861542,
     "user": {
      "displayName": "Kurtis Walton",
      "userId": "12535862951789694735"
     },
     "user_tz": -120
    },
    "id": "bOzG4hiGjGer",
    "outputId": "aaf157f2-304e-469a-c05c-fe6760d31fb6"
   },
   "outputs": [
    {
     "data": {
      "text/plain": [
       "Index(['id', 'cash_request_id', 'type', 'status', 'category', 'total_amount',\n",
       "       'reason', 'created_at', 'updated_at', 'paid_at', 'from_date', 'to_date',\n",
       "       'charge_moment'],\n",
       "      dtype='object')"
      ]
     },
     "execution_count": 12,
     "metadata": {},
     "output_type": "execute_result"
    }
   ],
   "source": [
    "fees.columns"
   ]
  },
  {
   "cell_type": "code",
   "execution_count": 13,
   "metadata": {
    "colab": {
     "base_uri": "https://localhost:8080/",
     "height": 297
    },
    "executionInfo": {
     "elapsed": 4,
     "status": "ok",
     "timestamp": 1715261862624,
     "user": {
      "displayName": "Kurtis Walton",
      "userId": "12535862951789694735"
     },
     "user_tz": -120
    },
    "id": "-85KiYNsj7-s",
    "outputId": "02e3f14e-7743-4f88-c4d2-0b04a489f21a"
   },
   "outputs": [
    {
     "data": {
      "text/html": [
       "<div>\n",
       "<style scoped>\n",
       "    .dataframe tbody tr th:only-of-type {\n",
       "        vertical-align: middle;\n",
       "    }\n",
       "\n",
       "    .dataframe tbody tr th {\n",
       "        vertical-align: top;\n",
       "    }\n",
       "\n",
       "    .dataframe thead th {\n",
       "        text-align: right;\n",
       "    }\n",
       "</style>\n",
       "<table border=\"1\" class=\"dataframe\">\n",
       "  <thead>\n",
       "    <tr style=\"text-align: right;\">\n",
       "      <th></th>\n",
       "      <th>id</th>\n",
       "      <th>amount</th>\n",
       "      <th>user_id</th>\n",
       "      <th>deleted_account_id</th>\n",
       "    </tr>\n",
       "  </thead>\n",
       "  <tbody>\n",
       "    <tr>\n",
       "      <th>count</th>\n",
       "      <td>21867.000000</td>\n",
       "      <td>21867.000000</td>\n",
       "      <td>21867.000000</td>\n",
       "      <td>1.0</td>\n",
       "    </tr>\n",
       "    <tr>\n",
       "      <th>mean</th>\n",
       "      <td>14280.978049</td>\n",
       "      <td>82.641240</td>\n",
       "      <td>32581.250789</td>\n",
       "      <td>262.0</td>\n",
       "    </tr>\n",
       "    <tr>\n",
       "      <th>std</th>\n",
       "      <td>7789.309858</td>\n",
       "      <td>26.669831</td>\n",
       "      <td>27618.565773</td>\n",
       "      <td>NaN</td>\n",
       "    </tr>\n",
       "    <tr>\n",
       "      <th>min</th>\n",
       "      <td>3.000000</td>\n",
       "      <td>1.000000</td>\n",
       "      <td>34.000000</td>\n",
       "      <td>262.0</td>\n",
       "    </tr>\n",
       "    <tr>\n",
       "      <th>25%</th>\n",
       "      <td>7919.000000</td>\n",
       "      <td>50.000000</td>\n",
       "      <td>10804.000000</td>\n",
       "      <td>262.0</td>\n",
       "    </tr>\n",
       "    <tr>\n",
       "      <th>50%</th>\n",
       "      <td>14757.000000</td>\n",
       "      <td>100.000000</td>\n",
       "      <td>23773.000000</td>\n",
       "      <td>262.0</td>\n",
       "    </tr>\n",
       "    <tr>\n",
       "      <th>75%</th>\n",
       "      <td>21028.500000</td>\n",
       "      <td>100.000000</td>\n",
       "      <td>46965.000000</td>\n",
       "      <td>262.0</td>\n",
       "    </tr>\n",
       "    <tr>\n",
       "      <th>max</th>\n",
       "      <td>27010.000000</td>\n",
       "      <td>200.000000</td>\n",
       "      <td>103719.000000</td>\n",
       "      <td>262.0</td>\n",
       "    </tr>\n",
       "  </tbody>\n",
       "</table>\n",
       "</div>"
      ],
      "text/plain": [
       "                 id        amount        user_id  deleted_account_id\n",
       "count  21867.000000  21867.000000   21867.000000                 1.0\n",
       "mean   14280.978049     82.641240   32581.250789               262.0\n",
       "std     7789.309858     26.669831   27618.565773                 NaN\n",
       "min        3.000000      1.000000      34.000000               262.0\n",
       "25%     7919.000000     50.000000   10804.000000               262.0\n",
       "50%    14757.000000    100.000000   23773.000000               262.0\n",
       "75%    21028.500000    100.000000   46965.000000               262.0\n",
       "max    27010.000000    200.000000  103719.000000               262.0"
      ]
     },
     "execution_count": 13,
     "metadata": {},
     "output_type": "execute_result"
    }
   ],
   "source": [
    "# Show information about dataframe\n",
    "\n",
    "cash.describe()"
   ]
  },
  {
   "cell_type": "code",
   "execution_count": 14,
   "metadata": {
    "colab": {
     "base_uri": "https://localhost:8080/"
    },
    "executionInfo": {
     "elapsed": 7,
     "status": "ok",
     "timestamp": 1715261862941,
     "user": {
      "displayName": "Kurtis Walton",
      "userId": "12535862951789694735"
     },
     "user_tz": -120
    },
    "id": "W_EVI_hujXcz",
    "outputId": "98350500-6ed0-4342-d76e-dda414307cb0"
   },
   "outputs": [
    {
     "data": {
      "text/plain": [
       "id                              int64\n",
       "amount                        float64\n",
       "status                         object\n",
       "created_at                     object\n",
       "updated_at                     object\n",
       "user_id                       float64\n",
       "moderated_at                   object\n",
       "deleted_account_id            float64\n",
       "reimbursement_date             object\n",
       "cash_request_received_date     object\n",
       "money_back_date                object\n",
       "transfer_type                  object\n",
       "send_at                        object\n",
       "recovery_status                object\n",
       "reco_creation                  object\n",
       "reco_last_update               object\n",
       "dtype: object"
      ]
     },
     "execution_count": 14,
     "metadata": {},
     "output_type": "execute_result"
    }
   ],
   "source": [
    "# Show data type of each column\n",
    "\n",
    "cash.dtypes"
   ]
  },
  {
   "cell_type": "code",
   "execution_count": 15,
   "metadata": {
    "executionInfo": {
     "elapsed": 2,
     "status": "ok",
     "timestamp": 1715261863269,
     "user": {
      "displayName": "Kurtis Walton",
      "userId": "12535862951789694735"
     },
     "user_tz": -120
    },
    "id": "kb9v7fnGAs90"
   },
   "outputs": [],
   "source": [
    "# Convert 'created_at' data type to to datetime\n",
    "cash['created_at'] = pd.to_datetime(cash['created_at'])"
   ]
  },
  {
   "cell_type": "code",
   "execution_count": 16,
   "metadata": {
    "id": "UmPxAiFVoWdH"
   },
   "outputs": [
    {
     "data": {
      "text/plain": [
       "\" Convert all date/time columns to datetime data type -\\n\\ndate_time_columns = cash['created_at', 'updated_at',\\n       'moderated_at','reimbursement_date',\\n       'cash_request_received_date', 'money_back_date',\\n       'send_at', 'reco_creation', 'reco_last_update']\\n\\ncash[date_time_columns] = cash[date_time_columns].apply(pd.to_datetime, errors = 'coerce', inplace = True) \""
      ]
     },
     "execution_count": 16,
     "metadata": {},
     "output_type": "execute_result"
    }
   ],
   "source": [
    "\"\"\" Convert all date/time columns to datetime data type -\n",
    "\n",
    "date_time_columns = cash['created_at', 'updated_at',\n",
    "       'moderated_at','reimbursement_date',\n",
    "       'cash_request_received_date', 'money_back_date',\n",
    "       'send_at', 'reco_creation', 'reco_last_update']\n",
    "\n",
    "cash[date_time_columns] = cash[date_time_columns].apply(pd.to_datetime, errors = 'coerce', inplace = True) \"\"\""
   ]
  },
  {
   "cell_type": "code",
   "execution_count": 17,
   "metadata": {
    "colab": {
     "base_uri": "https://localhost:8080/",
     "height": 309
    },
    "executionInfo": {
     "elapsed": 398,
     "status": "ok",
     "timestamp": 1715261878553,
     "user": {
      "displayName": "Kurtis Walton",
      "userId": "12535862951789694735"
     },
     "user_tz": -120
    },
    "id": "fzpKwScLmM1P",
    "outputId": "1138cb08-c768-4b1c-aec6-63e396a401e5"
   },
   "outputs": [
    {
     "data": {
      "text/html": [
       "<div>\n",
       "<style scoped>\n",
       "    .dataframe tbody tr th:only-of-type {\n",
       "        vertical-align: middle;\n",
       "    }\n",
       "\n",
       "    .dataframe tbody tr th {\n",
       "        vertical-align: top;\n",
       "    }\n",
       "\n",
       "    .dataframe thead th {\n",
       "        text-align: right;\n",
       "    }\n",
       "</style>\n",
       "<table border=\"1\" class=\"dataframe\">\n",
       "  <thead>\n",
       "    <tr style=\"text-align: right;\">\n",
       "      <th></th>\n",
       "      <th>id</th>\n",
       "      <th>amount</th>\n",
       "      <th>status</th>\n",
       "      <th>created_at</th>\n",
       "      <th>updated_at</th>\n",
       "      <th>user_id</th>\n",
       "      <th>send_at</th>\n",
       "      <th>recovery_status</th>\n",
       "      <th>reco_creation</th>\n",
       "      <th>reco_last_update</th>\n",
       "    </tr>\n",
       "  </thead>\n",
       "  <tbody>\n",
       "    <tr>\n",
       "      <th>0</th>\n",
       "      <td>5</td>\n",
       "      <td>100.0</td>\n",
       "      <td>rejected</td>\n",
       "      <td>2019-12-10 19:05:21.596873+00:00</td>\n",
       "      <td>2019-12-11 16:47:42.40783+00</td>\n",
       "      <td>804.0</td>\n",
       "      <td>NaN</td>\n",
       "      <td>NaN</td>\n",
       "      <td>NaN</td>\n",
       "      <td>NaN</td>\n",
       "    </tr>\n",
       "    <tr>\n",
       "      <th>1</th>\n",
       "      <td>70</td>\n",
       "      <td>100.0</td>\n",
       "      <td>rejected</td>\n",
       "      <td>2019-12-10 19:50:12.347780+00:00</td>\n",
       "      <td>2019-12-11 14:24:22.900054+00</td>\n",
       "      <td>231.0</td>\n",
       "      <td>NaN</td>\n",
       "      <td>NaN</td>\n",
       "      <td>NaN</td>\n",
       "      <td>NaN</td>\n",
       "    </tr>\n",
       "    <tr>\n",
       "      <th>2</th>\n",
       "      <td>7</td>\n",
       "      <td>100.0</td>\n",
       "      <td>rejected</td>\n",
       "      <td>2019-12-10 19:13:35.825460+00:00</td>\n",
       "      <td>2019-12-11 09:46:59.779773+00</td>\n",
       "      <td>191.0</td>\n",
       "      <td>NaN</td>\n",
       "      <td>NaN</td>\n",
       "      <td>NaN</td>\n",
       "      <td>NaN</td>\n",
       "    </tr>\n",
       "    <tr>\n",
       "      <th>3</th>\n",
       "      <td>10</td>\n",
       "      <td>99.0</td>\n",
       "      <td>rejected</td>\n",
       "      <td>2019-12-10 19:16:10.880172+00:00</td>\n",
       "      <td>2019-12-18 14:26:18.136163+00</td>\n",
       "      <td>761.0</td>\n",
       "      <td>NaN</td>\n",
       "      <td>NaN</td>\n",
       "      <td>NaN</td>\n",
       "      <td>NaN</td>\n",
       "    </tr>\n",
       "    <tr>\n",
       "      <th>4</th>\n",
       "      <td>1594</td>\n",
       "      <td>100.0</td>\n",
       "      <td>rejected</td>\n",
       "      <td>2020-05-06 09:59:38.877376+00:00</td>\n",
       "      <td>2020-05-07 09:21:55.34008+00</td>\n",
       "      <td>7686.0</td>\n",
       "      <td>NaN</td>\n",
       "      <td>NaN</td>\n",
       "      <td>NaN</td>\n",
       "      <td>NaN</td>\n",
       "    </tr>\n",
       "  </tbody>\n",
       "</table>\n",
       "</div>"
      ],
      "text/plain": [
       "     id  amount    status                       created_at  \\\n",
       "0     5   100.0  rejected 2019-12-10 19:05:21.596873+00:00   \n",
       "1    70   100.0  rejected 2019-12-10 19:50:12.347780+00:00   \n",
       "2     7   100.0  rejected 2019-12-10 19:13:35.825460+00:00   \n",
       "3    10    99.0  rejected 2019-12-10 19:16:10.880172+00:00   \n",
       "4  1594   100.0  rejected 2020-05-06 09:59:38.877376+00:00   \n",
       "\n",
       "                      updated_at  user_id send_at recovery_status  \\\n",
       "0   2019-12-11 16:47:42.40783+00    804.0     NaN             NaN   \n",
       "1  2019-12-11 14:24:22.900054+00    231.0     NaN             NaN   \n",
       "2  2019-12-11 09:46:59.779773+00    191.0     NaN             NaN   \n",
       "3  2019-12-18 14:26:18.136163+00    761.0     NaN             NaN   \n",
       "4   2020-05-07 09:21:55.34008+00   7686.0     NaN             NaN   \n",
       "\n",
       "  reco_creation reco_last_update  \n",
       "0           NaN              NaN  \n",
       "1           NaN              NaN  \n",
       "2           NaN              NaN  \n",
       "3           NaN              NaN  \n",
       "4           NaN              NaN  "
      ]
     },
     "execution_count": 17,
     "metadata": {},
     "output_type": "execute_result"
    }
   ],
   "source": [
    "# Create subset of columns by commenting out columns that we don't want to use right now\n",
    "\n",
    "cash_subset = cash[['id', 'amount', 'status', 'created_at', 'updated_at', 'user_id',\n",
    "       # 'moderated_at', 'deleted_account_id', 'reimbursement_date',\n",
    "       # 'cash_request_received_date', 'money_back_date', 'transfer_type',\n",
    "       'send_at', 'recovery_status', 'reco_creation', 'reco_last_update']].copy()\n",
    "\n",
    "cash_subset.head(5)"
   ]
  },
  {
   "cell_type": "code",
   "execution_count": 18,
   "metadata": {
    "colab": {
     "base_uri": "https://localhost:8080/",
     "height": 73
    },
    "executionInfo": {
     "elapsed": 241,
     "status": "ok",
     "timestamp": 1715261880880,
     "user": {
      "displayName": "Kurtis Walton",
      "userId": "12535862951789694735"
     },
     "user_tz": -120
    },
    "id": "Xi71rNBa1lv2",
    "outputId": "fceee3ae-3cc9-4c8d-ce6f-7bbe450fa6ac"
   },
   "outputs": [
    {
     "data": {
      "text/html": [
       "<div>\n",
       "<style scoped>\n",
       "    .dataframe tbody tr th:only-of-type {\n",
       "        vertical-align: middle;\n",
       "    }\n",
       "\n",
       "    .dataframe tbody tr th {\n",
       "        vertical-align: top;\n",
       "    }\n",
       "\n",
       "    .dataframe thead th {\n",
       "        text-align: right;\n",
       "    }\n",
       "</style>\n",
       "<table border=\"1\" class=\"dataframe\">\n",
       "  <thead>\n",
       "    <tr style=\"text-align: right;\">\n",
       "      <th></th>\n",
       "      <th>id</th>\n",
       "      <th>amount</th>\n",
       "      <th>status</th>\n",
       "      <th>created_at</th>\n",
       "      <th>updated_at</th>\n",
       "      <th>user_id</th>\n",
       "      <th>moderated_at</th>\n",
       "      <th>deleted_account_id</th>\n",
       "      <th>reimbursement_date</th>\n",
       "      <th>cash_request_received_date</th>\n",
       "      <th>money_back_date</th>\n",
       "      <th>transfer_type</th>\n",
       "      <th>send_at</th>\n",
       "      <th>recovery_status</th>\n",
       "      <th>reco_creation</th>\n",
       "      <th>reco_last_update</th>\n",
       "    </tr>\n",
       "  </thead>\n",
       "  <tbody>\n",
       "  </tbody>\n",
       "</table>\n",
       "</div>"
      ],
      "text/plain": [
       "Empty DataFrame\n",
       "Columns: [id, amount, status, created_at, updated_at, user_id, moderated_at, deleted_account_id, reimbursement_date, cash_request_received_date, money_back_date, transfer_type, send_at, recovery_status, reco_creation, reco_last_update]\n",
       "Index: []"
      ]
     },
     "execution_count": 18,
     "metadata": {},
     "output_type": "execute_result"
    }
   ],
   "source": [
    "# Check for duplicate rows in dataframe - none found\n",
    "cash.loc[cash.duplicated()]"
   ]
  },
  {
   "cell_type": "code",
   "execution_count": 19,
   "metadata": {
    "colab": {
     "base_uri": "https://localhost:8080/",
     "height": 609
    },
    "executionInfo": {
     "elapsed": 265,
     "status": "ok",
     "timestamp": 1715261888858,
     "user": {
      "displayName": "Kurtis Walton",
      "userId": "12535862951789694735"
     },
     "user_tz": -120
    },
    "id": "EJ4RSowJ18Pr",
    "outputId": "87b08aca-9d15-45d4-924e-b4a8802695a0"
   },
   "outputs": [
    {
     "data": {
      "text/html": [
       "<div>\n",
       "<style scoped>\n",
       "    .dataframe tbody tr th:only-of-type {\n",
       "        vertical-align: middle;\n",
       "    }\n",
       "\n",
       "    .dataframe tbody tr th {\n",
       "        vertical-align: top;\n",
       "    }\n",
       "\n",
       "    .dataframe thead th {\n",
       "        text-align: right;\n",
       "    }\n",
       "</style>\n",
       "<table border=\"1\" class=\"dataframe\">\n",
       "  <thead>\n",
       "    <tr style=\"text-align: right;\">\n",
       "      <th></th>\n",
       "      <th>id</th>\n",
       "      <th>amount</th>\n",
       "      <th>status</th>\n",
       "      <th>created_at</th>\n",
       "      <th>updated_at</th>\n",
       "      <th>user_id</th>\n",
       "      <th>moderated_at</th>\n",
       "      <th>deleted_account_id</th>\n",
       "      <th>reimbursement_date</th>\n",
       "      <th>cash_request_received_date</th>\n",
       "      <th>money_back_date</th>\n",
       "      <th>transfer_type</th>\n",
       "      <th>send_at</th>\n",
       "      <th>recovery_status</th>\n",
       "      <th>reco_creation</th>\n",
       "      <th>reco_last_update</th>\n",
       "    </tr>\n",
       "  </thead>\n",
       "  <tbody>\n",
       "    <tr>\n",
       "      <th>76</th>\n",
       "      <td>770</td>\n",
       "      <td>60.0</td>\n",
       "      <td>rejected</td>\n",
       "      <td>2020-03-01 00:14:25.915464+00:00</td>\n",
       "      <td>2020-03-01 20:21:23.994827+00</td>\n",
       "      <td>865.0</td>\n",
       "      <td>2020-03-01 20:21:23.990717+00</td>\n",
       "      <td>NaN</td>\n",
       "      <td>2020-03-16 23:00:00+00</td>\n",
       "      <td>NaN</td>\n",
       "      <td>NaN</td>\n",
       "      <td>regular</td>\n",
       "      <td>NaN</td>\n",
       "      <td>NaN</td>\n",
       "      <td>NaN</td>\n",
       "      <td>NaN</td>\n",
       "    </tr>\n",
       "    <tr>\n",
       "      <th>87</th>\n",
       "      <td>657</td>\n",
       "      <td>100.0</td>\n",
       "      <td>rejected</td>\n",
       "      <td>2020-02-10 15:57:34.916879+00:00</td>\n",
       "      <td>2020-02-10 17:56:31.339773+00</td>\n",
       "      <td>939.0</td>\n",
       "      <td>2020-02-10 17:56:31.336071+00</td>\n",
       "      <td>NaN</td>\n",
       "      <td>2020-03-11 15:57:34.916568+00</td>\n",
       "      <td>NaN</td>\n",
       "      <td>NaN</td>\n",
       "      <td>regular</td>\n",
       "      <td>NaN</td>\n",
       "      <td>NaN</td>\n",
       "      <td>NaN</td>\n",
       "      <td>NaN</td>\n",
       "    </tr>\n",
       "    <tr>\n",
       "      <th>91</th>\n",
       "      <td>758</td>\n",
       "      <td>90.0</td>\n",
       "      <td>rejected</td>\n",
       "      <td>2020-02-28 10:51:11.440880+00:00</td>\n",
       "      <td>2020-02-28 14:13:21.50435+00</td>\n",
       "      <td>35.0</td>\n",
       "      <td>2020-02-28 14:13:21.501335+00</td>\n",
       "      <td>NaN</td>\n",
       "      <td>2020-03-07 23:00:00+00</td>\n",
       "      <td>NaN</td>\n",
       "      <td>NaN</td>\n",
       "      <td>regular</td>\n",
       "      <td>NaN</td>\n",
       "      <td>NaN</td>\n",
       "      <td>NaN</td>\n",
       "      <td>NaN</td>\n",
       "    </tr>\n",
       "    <tr>\n",
       "      <th>115</th>\n",
       "      <td>793</td>\n",
       "      <td>100.0</td>\n",
       "      <td>rejected</td>\n",
       "      <td>2020-03-04 18:59:07.598200+00:00</td>\n",
       "      <td>2020-03-06 09:04:29.101895+00</td>\n",
       "      <td>2460.0</td>\n",
       "      <td>2020-03-06 09:04:29.098465+00</td>\n",
       "      <td>NaN</td>\n",
       "      <td>2020-03-28 23:00:00+00</td>\n",
       "      <td>NaN</td>\n",
       "      <td>NaN</td>\n",
       "      <td>regular</td>\n",
       "      <td>NaN</td>\n",
       "      <td>NaN</td>\n",
       "      <td>NaN</td>\n",
       "      <td>NaN</td>\n",
       "    </tr>\n",
       "    <tr>\n",
       "      <th>120</th>\n",
       "      <td>818</td>\n",
       "      <td>100.0</td>\n",
       "      <td>rejected</td>\n",
       "      <td>2020-03-07 18:37:03.621302+00:00</td>\n",
       "      <td>2020-03-08 14:29:56.55895+00</td>\n",
       "      <td>3162.0</td>\n",
       "      <td>2020-03-08 14:29:56.555207+00</td>\n",
       "      <td>NaN</td>\n",
       "      <td>2020-04-06 18:37:03.620898+00</td>\n",
       "      <td>NaN</td>\n",
       "      <td>NaN</td>\n",
       "      <td>regular</td>\n",
       "      <td>NaN</td>\n",
       "      <td>NaN</td>\n",
       "      <td>NaN</td>\n",
       "      <td>NaN</td>\n",
       "    </tr>\n",
       "    <tr>\n",
       "      <th>...</th>\n",
       "      <td>...</td>\n",
       "      <td>...</td>\n",
       "      <td>...</td>\n",
       "      <td>...</td>\n",
       "      <td>...</td>\n",
       "      <td>...</td>\n",
       "      <td>...</td>\n",
       "      <td>...</td>\n",
       "      <td>...</td>\n",
       "      <td>...</td>\n",
       "      <td>...</td>\n",
       "      <td>...</td>\n",
       "      <td>...</td>\n",
       "      <td>...</td>\n",
       "      <td>...</td>\n",
       "      <td>...</td>\n",
       "    </tr>\n",
       "    <tr>\n",
       "      <th>23955</th>\n",
       "      <td>6969</td>\n",
       "      <td>100.0</td>\n",
       "      <td>money_back</td>\n",
       "      <td>2020-07-07 18:11:10.840836+00:00</td>\n",
       "      <td>2020-12-18 13:09:33.691723+00</td>\n",
       "      <td>17349.0</td>\n",
       "      <td>2020-07-08 13:41:21.995142+00</td>\n",
       "      <td>NaN</td>\n",
       "      <td>2020-08-03 22:00:00+00</td>\n",
       "      <td>2020-07-10</td>\n",
       "      <td>2020-08-04 22:00:00+00</td>\n",
       "      <td>regular</td>\n",
       "      <td>NaN</td>\n",
       "      <td>NaN</td>\n",
       "      <td>NaN</td>\n",
       "      <td>NaN</td>\n",
       "    </tr>\n",
       "    <tr>\n",
       "      <th>23960</th>\n",
       "      <td>26969</td>\n",
       "      <td>50.0</td>\n",
       "      <td>direct_debit_sent</td>\n",
       "      <td>2020-11-01 17:31:03.345533+00:00</td>\n",
       "      <td>2021-01-06 09:07:31.575691+00</td>\n",
       "      <td>3377.0</td>\n",
       "      <td>NaN</td>\n",
       "      <td>NaN</td>\n",
       "      <td>2021-02-05 09:06:00+00</td>\n",
       "      <td>2020-11-02</td>\n",
       "      <td>NaN</td>\n",
       "      <td>instant</td>\n",
       "      <td>2020-11-01 17:31:25.526137+00</td>\n",
       "      <td>NaN</td>\n",
       "      <td>NaN</td>\n",
       "      <td>NaN</td>\n",
       "    </tr>\n",
       "    <tr>\n",
       "      <th>23964</th>\n",
       "      <td>16834</td>\n",
       "      <td>100.0</td>\n",
       "      <td>money_back</td>\n",
       "      <td>2020-09-19 07:37:14.351567+00:00</td>\n",
       "      <td>2021-02-05 12:11:58.186458+00</td>\n",
       "      <td>20064.0</td>\n",
       "      <td>2020-09-19 15:37:54.670099+00</td>\n",
       "      <td>NaN</td>\n",
       "      <td>2020-10-05 22:00:00+00</td>\n",
       "      <td>2020-09-22</td>\n",
       "      <td>2021-02-05 12:11:58.131036+00</td>\n",
       "      <td>instant</td>\n",
       "      <td>2020-09-26 07:37:14.299162+00</td>\n",
       "      <td>completed</td>\n",
       "      <td>2020-10-15 22:27:12.949488+00</td>\n",
       "      <td>2021-02-05 12:11:58.134306+00</td>\n",
       "    </tr>\n",
       "    <tr>\n",
       "      <th>23965</th>\n",
       "      <td>20616</td>\n",
       "      <td>100.0</td>\n",
       "      <td>money_back</td>\n",
       "      <td>2020-10-12 13:54:11.686225+00:00</td>\n",
       "      <td>2021-02-06 20:17:49.292493+00</td>\n",
       "      <td>13681.0</td>\n",
       "      <td>NaN</td>\n",
       "      <td>NaN</td>\n",
       "      <td>2021-02-06 11:00:00+00</td>\n",
       "      <td>2020-10-13</td>\n",
       "      <td>2021-02-06 20:17:49.257521+00</td>\n",
       "      <td>instant</td>\n",
       "      <td>2020-10-12 13:54:24.352856+00</td>\n",
       "      <td>NaN</td>\n",
       "      <td>NaN</td>\n",
       "      <td>NaN</td>\n",
       "    </tr>\n",
       "    <tr>\n",
       "      <th>23969</th>\n",
       "      <td>19886</td>\n",
       "      <td>100.0</td>\n",
       "      <td>direct_debit_sent</td>\n",
       "      <td>2020-10-08 14:16:52.155661+00:00</td>\n",
       "      <td>2021-01-05 15:45:52.645536+00</td>\n",
       "      <td>44867.0</td>\n",
       "      <td>NaN</td>\n",
       "      <td>NaN</td>\n",
       "      <td>2021-02-05 11:00:00+00</td>\n",
       "      <td>2020-10-10</td>\n",
       "      <td>NaN</td>\n",
       "      <td>instant</td>\n",
       "      <td>2020-10-08 14:17:04.526139+00</td>\n",
       "      <td>NaN</td>\n",
       "      <td>NaN</td>\n",
       "      <td>NaN</td>\n",
       "    </tr>\n",
       "  </tbody>\n",
       "</table>\n",
       "<p>11069 rows × 16 columns</p>\n",
       "</div>"
      ],
      "text/plain": [
       "          id  amount             status                       created_at  \\\n",
       "76       770    60.0           rejected 2020-03-01 00:14:25.915464+00:00   \n",
       "87       657   100.0           rejected 2020-02-10 15:57:34.916879+00:00   \n",
       "91       758    90.0           rejected 2020-02-28 10:51:11.440880+00:00   \n",
       "115      793   100.0           rejected 2020-03-04 18:59:07.598200+00:00   \n",
       "120      818   100.0           rejected 2020-03-07 18:37:03.621302+00:00   \n",
       "...      ...     ...                ...                              ...   \n",
       "23955   6969   100.0         money_back 2020-07-07 18:11:10.840836+00:00   \n",
       "23960  26969    50.0  direct_debit_sent 2020-11-01 17:31:03.345533+00:00   \n",
       "23964  16834   100.0         money_back 2020-09-19 07:37:14.351567+00:00   \n",
       "23965  20616   100.0         money_back 2020-10-12 13:54:11.686225+00:00   \n",
       "23969  19886   100.0  direct_debit_sent 2020-10-08 14:16:52.155661+00:00   \n",
       "\n",
       "                          updated_at  user_id                   moderated_at  \\\n",
       "76     2020-03-01 20:21:23.994827+00    865.0  2020-03-01 20:21:23.990717+00   \n",
       "87     2020-02-10 17:56:31.339773+00    939.0  2020-02-10 17:56:31.336071+00   \n",
       "91      2020-02-28 14:13:21.50435+00     35.0  2020-02-28 14:13:21.501335+00   \n",
       "115    2020-03-06 09:04:29.101895+00   2460.0  2020-03-06 09:04:29.098465+00   \n",
       "120     2020-03-08 14:29:56.55895+00   3162.0  2020-03-08 14:29:56.555207+00   \n",
       "...                              ...      ...                            ...   \n",
       "23955  2020-12-18 13:09:33.691723+00  17349.0  2020-07-08 13:41:21.995142+00   \n",
       "23960  2021-01-06 09:07:31.575691+00   3377.0                            NaN   \n",
       "23964  2021-02-05 12:11:58.186458+00  20064.0  2020-09-19 15:37:54.670099+00   \n",
       "23965  2021-02-06 20:17:49.292493+00  13681.0                            NaN   \n",
       "23969  2021-01-05 15:45:52.645536+00  44867.0                            NaN   \n",
       "\n",
       "       deleted_account_id             reimbursement_date  \\\n",
       "76                    NaN         2020-03-16 23:00:00+00   \n",
       "87                    NaN  2020-03-11 15:57:34.916568+00   \n",
       "91                    NaN         2020-03-07 23:00:00+00   \n",
       "115                   NaN         2020-03-28 23:00:00+00   \n",
       "120                   NaN  2020-04-06 18:37:03.620898+00   \n",
       "...                   ...                            ...   \n",
       "23955                 NaN         2020-08-03 22:00:00+00   \n",
       "23960                 NaN         2021-02-05 09:06:00+00   \n",
       "23964                 NaN         2020-10-05 22:00:00+00   \n",
       "23965                 NaN         2021-02-06 11:00:00+00   \n",
       "23969                 NaN         2021-02-05 11:00:00+00   \n",
       "\n",
       "      cash_request_received_date                money_back_date transfer_type  \\\n",
       "76                           NaN                            NaN       regular   \n",
       "87                           NaN                            NaN       regular   \n",
       "91                           NaN                            NaN       regular   \n",
       "115                          NaN                            NaN       regular   \n",
       "120                          NaN                            NaN       regular   \n",
       "...                          ...                            ...           ...   \n",
       "23955                 2020-07-10         2020-08-04 22:00:00+00       regular   \n",
       "23960                 2020-11-02                            NaN       instant   \n",
       "23964                 2020-09-22  2021-02-05 12:11:58.131036+00       instant   \n",
       "23965                 2020-10-13  2021-02-06 20:17:49.257521+00       instant   \n",
       "23969                 2020-10-10                            NaN       instant   \n",
       "\n",
       "                             send_at recovery_status  \\\n",
       "76                               NaN             NaN   \n",
       "87                               NaN             NaN   \n",
       "91                               NaN             NaN   \n",
       "115                              NaN             NaN   \n",
       "120                              NaN             NaN   \n",
       "...                              ...             ...   \n",
       "23955                            NaN             NaN   \n",
       "23960  2020-11-01 17:31:25.526137+00             NaN   \n",
       "23964  2020-09-26 07:37:14.299162+00       completed   \n",
       "23965  2020-10-12 13:54:24.352856+00             NaN   \n",
       "23969  2020-10-08 14:17:04.526139+00             NaN   \n",
       "\n",
       "                       reco_creation               reco_last_update  \n",
       "76                               NaN                            NaN  \n",
       "87                               NaN                            NaN  \n",
       "91                               NaN                            NaN  \n",
       "115                              NaN                            NaN  \n",
       "120                              NaN                            NaN  \n",
       "...                              ...                            ...  \n",
       "23955                            NaN                            NaN  \n",
       "23960                            NaN                            NaN  \n",
       "23964  2020-10-15 22:27:12.949488+00  2021-02-05 12:11:58.134306+00  \n",
       "23965                            NaN                            NaN  \n",
       "23969                            NaN                            NaN  \n",
       "\n",
       "[11069 rows x 16 columns]"
      ]
     },
     "execution_count": 19,
     "metadata": {},
     "output_type": "execute_result"
    }
   ],
   "source": [
    "#Check for duplicated user_id\n",
    "\n",
    "cash.loc[cash.duplicated(subset = ['user_id'])]"
   ]
  },
  {
   "cell_type": "code",
   "execution_count": 20,
   "metadata": {
    "colab": {
     "base_uri": "https://localhost:8080/"
    },
    "executionInfo": {
     "elapsed": 259,
     "status": "ok",
     "timestamp": 1715261895264,
     "user": {
      "displayName": "Kurtis Walton",
      "userId": "12535862951789694735"
     },
     "user_tz": -120
    },
    "id": "F5h0fBmFmNsm",
    "outputId": "e656ad2c-8bfa-4f6b-af6a-a7a677af6e15"
   },
   "outputs": [
    {
     "data": {
      "text/plain": [
       "array([nan, '2020-07-06 03:36:03.023521+00',\n",
       "       '2020-06-03 05:11:35.312616+00', ...,\n",
       "       '2021-02-06 20:17:49.257521+00', '2021-02-05 12:19:30.626289+00',\n",
       "       '2021-02-05 13:14:19.689906+00'], dtype=object)"
      ]
     },
     "execution_count": 20,
     "metadata": {},
     "output_type": "execute_result"
    }
   ],
   "source": [
    "# Check unique values of money_back_date column as there is no information in the lexique\n",
    "\n",
    "unique_values_money_back_date = cash['money_back_date'].unique()\n",
    "unique_values_money_back_date"
   ]
  },
  {
   "cell_type": "code",
   "execution_count": 21,
   "metadata": {
    "colab": {
     "base_uri": "https://localhost:8080/"
    },
    "executionInfo": {
     "elapsed": 269,
     "status": "ok",
     "timestamp": 1715261910375,
     "user": {
      "displayName": "Kurtis Walton",
      "userId": "12535862951789694735"
     },
     "user_tz": -120
    },
    "id": "OOnv006BmNzK",
    "outputId": "a4392ba4-9a4d-41bc-eb85-b314bc53c18e"
   },
   "outputs": [
    {
     "data": {
      "text/plain": [
       "15841"
      ]
     },
     "execution_count": 21,
     "metadata": {},
     "output_type": "execute_result"
    }
   ],
   "source": [
    "# Count total values in money_back_date column. This does NOT include NaN (Not a Number) entries\n",
    "count_values_money_back_date = cash['money_back_date'].count()\n",
    "count_values_money_back_date"
   ]
  },
  {
   "cell_type": "code",
   "execution_count": 26,
   "metadata": {
    "colab": {
     "base_uri": "https://localhost:8080/"
    },
    "executionInfo": {
     "elapsed": 7,
     "status": "ok",
     "timestamp": 1715261910768,
     "user": {
      "displayName": "Kurtis Walton",
      "userId": "12535862951789694735"
     },
     "user_tz": -120
    },
    "id": "OyJ8qv3GCGxs",
    "outputId": "15695efe-81bc-4bf2-fb28-a29da7d607f5"
   },
   "outputs": [
    {
     "name": "stdout",
     "output_type": "stream",
     "text": [
      "created_at\n",
      "2019-11-30 00:00:00+00:00       1\n",
      "2019-12-31 00:00:00+00:00     230\n",
      "2020-01-31 00:00:00+00:00     176\n",
      "2020-02-29 00:00:00+00:00     157\n",
      "2020-03-31 00:00:00+00:00     207\n",
      "2020-04-30 00:00:00+00:00     418\n",
      "2020-05-31 00:00:00+00:00     727\n",
      "2020-06-30 00:00:00+00:00    2251\n",
      "2020-07-31 00:00:00+00:00    3159\n",
      "2020-08-31 00:00:00+00:00    3090\n",
      "2020-09-30 00:00:00+00:00    3802\n",
      "2020-10-31 00:00:00+00:00    7512\n",
      "2020-11-30 00:00:00+00:00     137\n",
      "Freq: ME, dtype: int64\n"
     ]
    }
   ],
   "source": [
    "# Set 'created_at' column as index\n",
    "cash_copy = cash.copy()\n",
    "cash_copy.set_index('created_at', inplace=True)\n",
    "\n",
    "# Group by month and count the number of operations per month. 'ME' stands for month end frequency. Other options include W, D, Q, Y (week, day, quarter,)\n",
    "operations_by_month = cash_copy.resample('ME').size()\n",
    "\n",
    "print(operations_by_month)\n",
    "\n",
    "# The output shows the last date of each month. In pandas, when you use the resample() function to group data by time periods like months, weeks, etc., the default behavior is to label the groups with the end timestamp of each period.\n"
   ]
  },
  {
   "cell_type": "code",
   "execution_count": 27,
   "metadata": {
    "colab": {
     "base_uri": "https://localhost:8080/"
    },
    "executionInfo": {
     "elapsed": 3,
     "status": "ok",
     "timestamp": 1715261911442,
     "user": {
      "displayName": "Kurtis Walton",
      "userId": "12535862951789694735"
     },
     "user_tz": -120
    },
    "id": "TU6whmj6FoVV",
    "outputId": "6c82b064-c333-4120-b2ee-5555bd5fd6fb"
   },
   "outputs": [
    {
     "data": {
      "text/plain": [
       "user_id\n",
       "3377.0     19\n",
       "2142.0     18\n",
       "13851.0    18\n",
       "2530.0     17\n",
       "1159.0     17\n",
       "           ..\n",
       "4938.0      1\n",
       "79289.0     1\n",
       "74036.0     1\n",
       "57112.0     1\n",
       "64517.0     1\n",
       "Name: count, Length: 10798, dtype: int64"
      ]
     },
     "execution_count": 27,
     "metadata": {},
     "output_type": "execute_result"
    }
   ],
   "source": [
    "#Count number of occurrences of each user_id in the cash dataframe. Displayed in descending order.\n",
    "\n",
    "user_id_counts = cash['user_id'].value_counts()\n",
    "user_id_counts"
   ]
  },
  {
   "cell_type": "code",
   "execution_count": 28,
   "metadata": {
    "colab": {
     "base_uri": "https://localhost:8080/"
    },
    "executionInfo": {
     "elapsed": 3,
     "status": "ok",
     "timestamp": 1715261911949,
     "user": {
      "displayName": "Kurtis Walton",
      "userId": "12535862951789694735"
     },
     "user_tz": -120
    },
    "id": "V6hQG2dFZ4PL",
    "outputId": "7972fc0e-fcff-4f37-ce3c-4a4516489ca1"
   },
   "outputs": [
    {
     "data": {
      "text/plain": [
       "10798"
      ]
     },
     "execution_count": 28,
     "metadata": {},
     "output_type": "execute_result"
    }
   ],
   "source": [
    "# Count total number of unique user IDs in the dataframe (see also 'length' of previous ouput)\n",
    "unique_user_ids = cash['user_id'].nunique()\n",
    "unique_user_ids"
   ]
  },
  {
   "cell_type": "code",
   "execution_count": 29,
   "metadata": {
    "colab": {
     "base_uri": "https://localhost:8080/"
    },
    "executionInfo": {
     "elapsed": 3,
     "status": "ok",
     "timestamp": 1715261912825,
     "user": {
      "displayName": "Kurtis Walton",
      "userId": "12535862951789694735"
     },
     "user_tz": -120
    },
    "id": "x3EtSVClIULq",
    "outputId": "07f19159-cad4-465c-ee4c-87e4ac12fc0e"
   },
   "outputs": [
    {
     "data": {
      "text/plain": [
       "2.0250972402296723"
      ]
     },
     "execution_count": 29,
     "metadata": {},
     "output_type": "execute_result"
    }
   ],
   "source": [
    "# Calculate average user counts (average number of transactions per user)\n",
    "average_user_count = user_id_counts.mean()\n",
    "average_user_count"
   ]
  },
  {
   "cell_type": "code",
   "execution_count": 30,
   "metadata": {
    "colab": {
     "base_uri": "https://localhost:8080/",
     "height": 473
    },
    "executionInfo": {
     "elapsed": 5,
     "status": "ok",
     "timestamp": 1715261913185,
     "user": {
      "displayName": "Kurtis Walton",
      "userId": "12535862951789694735"
     },
     "user_tz": -120
    },
    "id": "gpEudajBnpEH",
    "outputId": "ccee3881-2125-4beb-e41b-49370ce97c65"
   },
   "outputs": [
    {
     "name": "stderr",
     "output_type": "stream",
     "text": [
      "/var/folders/n0/_vmv2lw94kg85dwrz8mtn4mr0000gn/T/ipykernel_69187/1790299301.py:4: UserWarning: Converting to PeriodArray/Index representation will drop timezone information.\n",
      "  cash['first_loan_month'] = cash.groupby('user_id')['created_at'].transform('min').dt.to_period('M')\n"
     ]
    },
    {
     "data": {
      "text/html": [
       "<div>\n",
       "<style scoped>\n",
       "    .dataframe tbody tr th:only-of-type {\n",
       "        vertical-align: middle;\n",
       "    }\n",
       "\n",
       "    .dataframe tbody tr th {\n",
       "        vertical-align: top;\n",
       "    }\n",
       "\n",
       "    .dataframe thead th {\n",
       "        text-align: right;\n",
       "    }\n",
       "</style>\n",
       "<table border=\"1\" class=\"dataframe\">\n",
       "  <thead>\n",
       "    <tr style=\"text-align: right;\">\n",
       "      <th></th>\n",
       "      <th>user_id</th>\n",
       "      <th>first_loan_month</th>\n",
       "    </tr>\n",
       "  </thead>\n",
       "  <tbody>\n",
       "    <tr>\n",
       "      <th>0</th>\n",
       "      <td>804.0</td>\n",
       "      <td>2019-12</td>\n",
       "    </tr>\n",
       "    <tr>\n",
       "      <th>1</th>\n",
       "      <td>231.0</td>\n",
       "      <td>2019-12</td>\n",
       "    </tr>\n",
       "    <tr>\n",
       "      <th>2</th>\n",
       "      <td>191.0</td>\n",
       "      <td>2019-12</td>\n",
       "    </tr>\n",
       "    <tr>\n",
       "      <th>3</th>\n",
       "      <td>761.0</td>\n",
       "      <td>2019-12</td>\n",
       "    </tr>\n",
       "    <tr>\n",
       "      <th>4</th>\n",
       "      <td>7686.0</td>\n",
       "      <td>2020-05</td>\n",
       "    </tr>\n",
       "    <tr>\n",
       "      <th>...</th>\n",
       "      <td>...</td>\n",
       "      <td>...</td>\n",
       "    </tr>\n",
       "    <tr>\n",
       "      <th>23961</th>\n",
       "      <td>57130.0</td>\n",
       "      <td>2020-09</td>\n",
       "    </tr>\n",
       "    <tr>\n",
       "      <th>23962</th>\n",
       "      <td>102737.0</td>\n",
       "      <td>2020-11</td>\n",
       "    </tr>\n",
       "    <tr>\n",
       "      <th>23963</th>\n",
       "      <td>31413.0</td>\n",
       "      <td>2020-07</td>\n",
       "    </tr>\n",
       "    <tr>\n",
       "      <th>23967</th>\n",
       "      <td>82122.0</td>\n",
       "      <td>2020-10</td>\n",
       "    </tr>\n",
       "    <tr>\n",
       "      <th>23968</th>\n",
       "      <td>64517.0</td>\n",
       "      <td>2020-10</td>\n",
       "    </tr>\n",
       "  </tbody>\n",
       "</table>\n",
       "<p>10798 rows × 2 columns</p>\n",
       "</div>"
      ],
      "text/plain": [
       "        user_id first_loan_month\n",
       "0         804.0          2019-12\n",
       "1         231.0          2019-12\n",
       "2         191.0          2019-12\n",
       "3         761.0          2019-12\n",
       "4        7686.0          2020-05\n",
       "...         ...              ...\n",
       "23961   57130.0          2020-09\n",
       "23962  102737.0          2020-11\n",
       "23963   31413.0          2020-07\n",
       "23967   82122.0          2020-10\n",
       "23968   64517.0          2020-10\n",
       "\n",
       "[10798 rows x 2 columns]"
      ]
     },
     "execution_count": 30,
     "metadata": {},
     "output_type": "execute_result"
    }
   ],
   "source": [
    "# Recap to understand each step of creating cohorts\n",
    "\n",
    "# Extract the month from 'created_at' column to identify the month of creation of the first loan for each user\n",
    "cash['first_loan_month'] = cash.groupby('user_id')['created_at'].transform('min').dt.to_period('M')\n",
    "\n",
    "# Create cohorts based on the month of creation of the first loan\n",
    "cohorts = cash[['user_id', 'first_loan_month']].drop_duplicates()\n",
    "\n",
    "# The new column first_loan_month has now been added to our dataframe cash\n",
    "\n",
    "cohorts"
   ]
  },
  {
   "cell_type": "code",
   "execution_count": 31,
   "metadata": {
    "colab": {
     "base_uri": "https://localhost:8080/"
    },
    "executionInfo": {
     "elapsed": 15,
     "status": "ok",
     "timestamp": 1715261487963,
     "user": {
      "displayName": "Kurtis Walton",
      "userId": "12535862951789694735"
     },
     "user_tz": -120
    },
    "id": "Yn9zpxqaOHeX",
    "outputId": "7b65df48-683f-4bc5-bd59-f6d7651eb6f0"
   },
   "outputs": [
    {
     "data": {
      "text/plain": [
       "first_loan_month\n",
       "2019-11       1\n",
       "2019-12     204\n",
       "2020-01      90\n",
       "2020-02      84\n",
       "2020-03      69\n",
       "2020-04     212\n",
       "2020-05     369\n",
       "2020-06    1338\n",
       "2020-07    1294\n",
       "2020-08     656\n",
       "2020-09    1712\n",
       "2020-10    4694\n",
       "2020-11      75\n",
       "Freq: M, Name: user_id, dtype: int64"
      ]
     },
     "execution_count": 31,
     "metadata": {},
     "output_type": "execute_result"
    }
   ],
   "source": [
    "#Calculate cohort sizes\n",
    "\n",
    "cohort_sizes = cash.groupby(['first_loan_month'])['user_id'].nunique()\n",
    "cohort_sizes\n",
    "# Here they are arranged by month"
   ]
  },
  {
   "cell_type": "code",
   "execution_count": 32,
   "metadata": {
    "colab": {
     "base_uri": "https://localhost:8080/"
    },
    "executionInfo": {
     "elapsed": 13,
     "status": "ok",
     "timestamp": 1715261487963,
     "user": {
      "displayName": "Kurtis Walton",
      "userId": "12535862951789694735"
     },
     "user_tz": -120
    },
    "id": "LmqhX2AqO8AY",
    "outputId": "f3288021-525f-402f-b74e-13dfa6b6f75e"
   },
   "outputs": [
    {
     "data": {
      "text/plain": [
       "first_loan_month\n",
       "2020-10    4694\n",
       "2020-09    1712\n",
       "2020-06    1338\n",
       "2020-07    1294\n",
       "2020-08     656\n",
       "2020-05     369\n",
       "2020-04     212\n",
       "2019-12     204\n",
       "2020-01      90\n",
       "2020-02      84\n",
       "2020-11      75\n",
       "2020-03      69\n",
       "2019-11       1\n",
       "Freq: M, Name: count, dtype: int64"
      ]
     },
     "execution_count": 32,
     "metadata": {},
     "output_type": "execute_result"
    }
   ],
   "source": [
    "# Another way to calculate cohort sizes (number of cohorts for each first_loan_month)\n",
    "\n",
    "# Find the number of cohorts for each first_loan_month\n",
    "cohort_counts = cohorts['first_loan_month'].value_counts()\n",
    "\n",
    "# Display the number of cohorts for each first_loan_month\n",
    "cohort_counts\n",
    "\n",
    "# Here they are arranged by size"
   ]
  },
  {
   "cell_type": "code",
   "execution_count": 33,
   "metadata": {
    "colab": {
     "base_uri": "https://localhost:8080/",
     "height": 359
    },
    "executionInfo": {
     "elapsed": 10,
     "status": "ok",
     "timestamp": 1715261487963,
     "user": {
      "displayName": "Kurtis Walton",
      "userId": "12535862951789694735"
     },
     "user_tz": -120
    },
    "id": "sGBhZyzzPnPh",
    "outputId": "826c9575-1b51-4197-abbc-83bdabf41bba"
   },
   "outputs": [
    {
     "data": {
      "text/html": [
       "<div>\n",
       "<style scoped>\n",
       "    .dataframe tbody tr th:only-of-type {\n",
       "        vertical-align: middle;\n",
       "    }\n",
       "\n",
       "    .dataframe tbody tr th {\n",
       "        vertical-align: top;\n",
       "    }\n",
       "\n",
       "    .dataframe thead th {\n",
       "        text-align: right;\n",
       "    }\n",
       "</style>\n",
       "<table border=\"1\" class=\"dataframe\">\n",
       "  <thead>\n",
       "    <tr style=\"text-align: right;\">\n",
       "      <th></th>\n",
       "      <th>first_loan_month</th>\n",
       "      <th>first_loans</th>\n",
       "    </tr>\n",
       "  </thead>\n",
       "  <tbody>\n",
       "    <tr>\n",
       "      <th>0</th>\n",
       "      <td>2020-10</td>\n",
       "      <td>4694</td>\n",
       "    </tr>\n",
       "    <tr>\n",
       "      <th>1</th>\n",
       "      <td>2020-09</td>\n",
       "      <td>1712</td>\n",
       "    </tr>\n",
       "    <tr>\n",
       "      <th>2</th>\n",
       "      <td>2020-06</td>\n",
       "      <td>1338</td>\n",
       "    </tr>\n",
       "    <tr>\n",
       "      <th>3</th>\n",
       "      <td>2020-07</td>\n",
       "      <td>1294</td>\n",
       "    </tr>\n",
       "    <tr>\n",
       "      <th>4</th>\n",
       "      <td>2020-08</td>\n",
       "      <td>656</td>\n",
       "    </tr>\n",
       "    <tr>\n",
       "      <th>5</th>\n",
       "      <td>2020-05</td>\n",
       "      <td>369</td>\n",
       "    </tr>\n",
       "    <tr>\n",
       "      <th>6</th>\n",
       "      <td>2020-04</td>\n",
       "      <td>212</td>\n",
       "    </tr>\n",
       "    <tr>\n",
       "      <th>7</th>\n",
       "      <td>2019-12</td>\n",
       "      <td>204</td>\n",
       "    </tr>\n",
       "    <tr>\n",
       "      <th>8</th>\n",
       "      <td>2020-01</td>\n",
       "      <td>90</td>\n",
       "    </tr>\n",
       "    <tr>\n",
       "      <th>9</th>\n",
       "      <td>2020-02</td>\n",
       "      <td>84</td>\n",
       "    </tr>\n",
       "  </tbody>\n",
       "</table>\n",
       "</div>"
      ],
      "text/plain": [
       "  first_loan_month  first_loans\n",
       "0          2020-10         4694\n",
       "1          2020-09         1712\n",
       "2          2020-06         1338\n",
       "3          2020-07         1294\n",
       "4          2020-08          656\n",
       "5          2020-05          369\n",
       "6          2020-04          212\n",
       "7          2019-12          204\n",
       "8          2020-01           90\n",
       "9          2020-02           84"
      ]
     },
     "execution_count": 33,
     "metadata": {},
     "output_type": "execute_result"
    }
   ],
   "source": [
    "# Convert to dataframe and reset index\n",
    "cohort_counts_df = cohort_counts.reset_index()\n",
    "\n",
    "# Rename the columns for clarity\n",
    "cohort_counts_df.columns = ['first_loan_month', 'first_loans']\n",
    "\n",
    "# Display the DataFrame with index\n",
    "cohort_counts_df.head(10)"
   ]
  },
  {
   "cell_type": "code",
   "execution_count": 34,
   "metadata": {
    "colab": {
     "base_uri": "https://localhost:8080/",
     "height": 503
    },
    "executionInfo": {
     "elapsed": 10,
     "status": "ok",
     "timestamp": 1715261487964,
     "user": {
      "displayName": "Kurtis Walton",
      "userId": "12535862951789694735"
     },
     "user_tz": -120
    },
    "id": "mNXHr0VWHsBa",
    "outputId": "5aca68c2-b2ac-44b8-94ac-57d2d6a19c30"
   },
   "outputs": [
    {
     "data": {
      "text/html": [
       "<div>\n",
       "<style scoped>\n",
       "    .dataframe tbody tr th:only-of-type {\n",
       "        vertical-align: middle;\n",
       "    }\n",
       "\n",
       "    .dataframe tbody tr th {\n",
       "        vertical-align: top;\n",
       "    }\n",
       "\n",
       "    .dataframe thead th {\n",
       "        text-align: right;\n",
       "    }\n",
       "</style>\n",
       "<table border=\"1\" class=\"dataframe\">\n",
       "  <thead>\n",
       "    <tr style=\"text-align: right;\">\n",
       "      <th>status</th>\n",
       "      <th>active</th>\n",
       "      <th>canceled</th>\n",
       "      <th>direct_debit_rejected</th>\n",
       "      <th>direct_debit_sent</th>\n",
       "      <th>money_back</th>\n",
       "      <th>rejected</th>\n",
       "      <th>transaction_declined</th>\n",
       "    </tr>\n",
       "    <tr>\n",
       "      <th>first_loan_month</th>\n",
       "      <th></th>\n",
       "      <th></th>\n",
       "      <th></th>\n",
       "      <th></th>\n",
       "      <th></th>\n",
       "      <th></th>\n",
       "      <th></th>\n",
       "    </tr>\n",
       "  </thead>\n",
       "  <tbody>\n",
       "    <tr>\n",
       "      <th>2019-11</th>\n",
       "      <td>0.0</td>\n",
       "      <td>1.0</td>\n",
       "      <td>0.0</td>\n",
       "      <td>0.0</td>\n",
       "      <td>6.0</td>\n",
       "      <td>1.0</td>\n",
       "      <td>0.0</td>\n",
       "    </tr>\n",
       "    <tr>\n",
       "      <th>2019-12</th>\n",
       "      <td>0.0</td>\n",
       "      <td>0.0</td>\n",
       "      <td>39.0</td>\n",
       "      <td>2.0</td>\n",
       "      <td>611.0</td>\n",
       "      <td>240.0</td>\n",
       "      <td>1.0</td>\n",
       "    </tr>\n",
       "    <tr>\n",
       "      <th>2020-01</th>\n",
       "      <td>0.0</td>\n",
       "      <td>0.0</td>\n",
       "      <td>11.0</td>\n",
       "      <td>0.0</td>\n",
       "      <td>207.0</td>\n",
       "      <td>103.0</td>\n",
       "      <td>0.0</td>\n",
       "    </tr>\n",
       "    <tr>\n",
       "      <th>2020-02</th>\n",
       "      <td>1.0</td>\n",
       "      <td>0.0</td>\n",
       "      <td>8.0</td>\n",
       "      <td>0.0</td>\n",
       "      <td>336.0</td>\n",
       "      <td>77.0</td>\n",
       "      <td>1.0</td>\n",
       "    </tr>\n",
       "    <tr>\n",
       "      <th>2020-03</th>\n",
       "      <td>1.0</td>\n",
       "      <td>0.0</td>\n",
       "      <td>4.0</td>\n",
       "      <td>1.0</td>\n",
       "      <td>248.0</td>\n",
       "      <td>69.0</td>\n",
       "      <td>0.0</td>\n",
       "    </tr>\n",
       "    <tr>\n",
       "      <th>2020-04</th>\n",
       "      <td>0.0</td>\n",
       "      <td>0.0</td>\n",
       "      <td>34.0</td>\n",
       "      <td>1.0</td>\n",
       "      <td>593.0</td>\n",
       "      <td>212.0</td>\n",
       "      <td>0.0</td>\n",
       "    </tr>\n",
       "    <tr>\n",
       "      <th>2020-05</th>\n",
       "      <td>1.0</td>\n",
       "      <td>0.0</td>\n",
       "      <td>38.0</td>\n",
       "      <td>2.0</td>\n",
       "      <td>1096.0</td>\n",
       "      <td>312.0</td>\n",
       "      <td>0.0</td>\n",
       "    </tr>\n",
       "    <tr>\n",
       "      <th>2020-06</th>\n",
       "      <td>12.0</td>\n",
       "      <td>2.0</td>\n",
       "      <td>119.0</td>\n",
       "      <td>4.0</td>\n",
       "      <td>3197.0</td>\n",
       "      <td>1369.0</td>\n",
       "      <td>8.0</td>\n",
       "    </tr>\n",
       "    <tr>\n",
       "      <th>2020-07</th>\n",
       "      <td>14.0</td>\n",
       "      <td>2.0</td>\n",
       "      <td>132.0</td>\n",
       "      <td>3.0</td>\n",
       "      <td>2230.0</td>\n",
       "      <td>1349.0</td>\n",
       "      <td>5.0</td>\n",
       "    </tr>\n",
       "    <tr>\n",
       "      <th>2020-08</th>\n",
       "      <td>2.0</td>\n",
       "      <td>1.0</td>\n",
       "      <td>44.0</td>\n",
       "      <td>5.0</td>\n",
       "      <td>831.0</td>\n",
       "      <td>627.0</td>\n",
       "      <td>0.0</td>\n",
       "    </tr>\n",
       "    <tr>\n",
       "      <th>2020-09</th>\n",
       "      <td>4.0</td>\n",
       "      <td>0.0</td>\n",
       "      <td>120.0</td>\n",
       "      <td>7.0</td>\n",
       "      <td>1786.0</td>\n",
       "      <td>718.0</td>\n",
       "      <td>1.0</td>\n",
       "    </tr>\n",
       "    <tr>\n",
       "      <th>2020-10</th>\n",
       "      <td>24.0</td>\n",
       "      <td>1.0</td>\n",
       "      <td>263.0</td>\n",
       "      <td>9.0</td>\n",
       "      <td>4471.0</td>\n",
       "      <td>143.0</td>\n",
       "      <td>32.0</td>\n",
       "    </tr>\n",
       "    <tr>\n",
       "      <th>2020-11</th>\n",
       "      <td>0.0</td>\n",
       "      <td>0.0</td>\n",
       "      <td>3.0</td>\n",
       "      <td>0.0</td>\n",
       "      <td>71.0</td>\n",
       "      <td>1.0</td>\n",
       "      <td>0.0</td>\n",
       "    </tr>\n",
       "  </tbody>\n",
       "</table>\n",
       "</div>"
      ],
      "text/plain": [
       "status            active  canceled  direct_debit_rejected  direct_debit_sent  \\\n",
       "first_loan_month                                                               \n",
       "2019-11              0.0       1.0                    0.0                0.0   \n",
       "2019-12              0.0       0.0                   39.0                2.0   \n",
       "2020-01              0.0       0.0                   11.0                0.0   \n",
       "2020-02              1.0       0.0                    8.0                0.0   \n",
       "2020-03              1.0       0.0                    4.0                1.0   \n",
       "2020-04              0.0       0.0                   34.0                1.0   \n",
       "2020-05              1.0       0.0                   38.0                2.0   \n",
       "2020-06             12.0       2.0                  119.0                4.0   \n",
       "2020-07             14.0       2.0                  132.0                3.0   \n",
       "2020-08              2.0       1.0                   44.0                5.0   \n",
       "2020-09              4.0       0.0                  120.0                7.0   \n",
       "2020-10             24.0       1.0                  263.0                9.0   \n",
       "2020-11              0.0       0.0                    3.0                0.0   \n",
       "\n",
       "status            money_back  rejected  transaction_declined  \n",
       "first_loan_month                                              \n",
       "2019-11                  6.0       1.0                   0.0  \n",
       "2019-12                611.0     240.0                   1.0  \n",
       "2020-01                207.0     103.0                   0.0  \n",
       "2020-02                336.0      77.0                   1.0  \n",
       "2020-03                248.0      69.0                   0.0  \n",
       "2020-04                593.0     212.0                   0.0  \n",
       "2020-05               1096.0     312.0                   0.0  \n",
       "2020-06               3197.0    1369.0                   8.0  \n",
       "2020-07               2230.0    1349.0                   5.0  \n",
       "2020-08                831.0     627.0                   0.0  \n",
       "2020-09               1786.0     718.0                   1.0  \n",
       "2020-10               4471.0     143.0                  32.0  \n",
       "2020-11                 71.0       1.0                   0.0  "
      ]
     },
     "execution_count": 34,
     "metadata": {},
     "output_type": "execute_result"
    }
   ],
   "source": [
    "# Group by 'first_loan_month' and 'status' to get the count of each status value for each cohort\n",
    "cohort_status_counts = cash.groupby(['first_loan_month', 'status'])['user_id'].count()\n",
    "\n",
    "# Reset index to convert the result into a DataFrame\n",
    "cohort_status_counts = cohort_status_counts.reset_index()\n",
    "\n",
    "# Pivot the DataFrame to have 'first_loan_month' as index and 'status' values as columns\n",
    "cohort_status_counts_pivot = cohort_status_counts.pivot(index='first_loan_month', columns='status', values='user_id')\n",
    "\n",
    "# Fill missing values with 0\n",
    "cohort_status_counts_pivot = cohort_status_counts_pivot.fillna(0)\n",
    "\n",
    "# Display the resulting DataFrame\n",
    "cohort_status_counts_pivot"
   ]
  },
  {
   "cell_type": "code",
   "execution_count": 35,
   "metadata": {
    "colab": {
     "base_uri": "https://localhost:8080/",
     "height": 606
    },
    "executionInfo": {
     "elapsed": 1234,
     "status": "ok",
     "timestamp": 1715261489899,
     "user": {
      "displayName": "Kurtis Walton",
      "userId": "12535862951789694735"
     },
     "user_tz": -120
    },
    "id": "NsHomiRWINEx",
    "outputId": "c8a25f9c-38e6-4294-d373-9548f29da30f"
   },
   "outputs": [
    {
     "data": {
      "image/png": "[encoded data removed]",
      "text/plain": [
       "<Figure size 1000x600 with 1 Axes>"
      ]
     },
     "metadata": {},
     "output_type": "display_data"
    }
   ],
   "source": [
    "# Stacked Bar Chart\n",
    "cohort_status_counts_pivot.plot(kind='bar', stacked=True, figsize=(10, 6))\n",
    "plt.title('Count of Status Values for Each Cohort')\n",
    "plt.xlabel('Cohort (Month of Creation of First Loan)')\n",
    "plt.ylabel('Count')\n",
    "plt.xticks(rotation=45)\n",
    "plt.legend(title='Status')\n",
    "plt.grid(axis='y')\n",
    "plt.show()"
   ]
  },
  {
   "cell_type": "code",
   "execution_count": 36,
   "metadata": {
    "colab": {
     "base_uri": "https://localhost:8080/",
     "height": 549
    },
    "executionInfo": {
     "elapsed": 703,
     "status": "ok",
     "timestamp": 1715261490599,
     "user": {
      "displayName": "Kurtis Walton",
      "userId": "12535862951789694735"
     },
     "user_tz": -120
    },
    "id": "N9SH0vrfJMYb",
    "outputId": "a4ddfa0a-55ec-48df-952a-f247d7a6e22b"
   },
   "outputs": [
    {
     "data": {
      "image/png": "[encoded data removed]",
      "text/plain": [
       "<Figure size 1000x600 with 1 Axes>"
      ]
     },
     "metadata": {},
     "output_type": "display_data"
    }
   ],
   "source": [
    "# Line Chart\n",
    "cohort_status_counts_pivot.plot(kind='line', marker='o', figsize=(10, 6))\n",
    "plt.title('Count of Status Values Over Time for Each Cohort')\n",
    "plt.xlabel('Cohort (Month of Creation of First Loan)')\n",
    "plt.ylabel('Count')\n",
    "plt.xticks(rotation=45)\n",
    "plt.legend(title='Status', bbox_to_anchor=(1, 1))\n",
    "plt.grid(True)\n",
    "plt.show()"
   ]
  },
  {
   "cell_type": "code",
   "execution_count": 37,
   "metadata": {
    "colab": {
     "base_uri": "https://localhost:8080/",
     "height": 309
    },
    "executionInfo": {
     "elapsed": 857,
     "status": "ok",
     "timestamp": 1715261491451,
     "user": {
      "displayName": "Kurtis Walton",
      "userId": "12535862951789694735"
     },
     "user_tz": -120
    },
    "id": "koD0PVpmf7r_",
    "outputId": "c48bc5b9-c976-4200-e0a1-5a9bed63144c"
   },
   "outputs": [
    {
     "data": {
      "text/html": [
       "<div>\n",
       "<style scoped>\n",
       "    .dataframe tbody tr th:only-of-type {\n",
       "        vertical-align: middle;\n",
       "    }\n",
       "\n",
       "    .dataframe tbody tr th {\n",
       "        vertical-align: top;\n",
       "    }\n",
       "\n",
       "    .dataframe thead th {\n",
       "        text-align: right;\n",
       "    }\n",
       "</style>\n",
       "<table border=\"1\" class=\"dataframe\">\n",
       "  <thead>\n",
       "    <tr style=\"text-align: right;\">\n",
       "      <th></th>\n",
       "      <th>id</th>\n",
       "      <th>amount</th>\n",
       "      <th>status</th>\n",
       "      <th>created_at</th>\n",
       "      <th>updated_at</th>\n",
       "      <th>user_id</th>\n",
       "      <th>moderated_at</th>\n",
       "      <th>deleted_account_id</th>\n",
       "      <th>reimbursement_date</th>\n",
       "      <th>cash_request_received_date</th>\n",
       "      <th>money_back_date</th>\n",
       "      <th>transfer_type</th>\n",
       "      <th>send_at</th>\n",
       "      <th>recovery_status</th>\n",
       "      <th>reco_creation</th>\n",
       "      <th>reco_last_update</th>\n",
       "      <th>first_loan_month</th>\n",
       "    </tr>\n",
       "  </thead>\n",
       "  <tbody>\n",
       "    <tr>\n",
       "      <th>0</th>\n",
       "      <td>5</td>\n",
       "      <td>100.0</td>\n",
       "      <td>rejected</td>\n",
       "      <td>2019-12-10 19:05:21.596873+00:00</td>\n",
       "      <td>2019-12-11 16:47:42.40783+00</td>\n",
       "      <td>804.0</td>\n",
       "      <td>2019-12-11 16:47:42.405646+00</td>\n",
       "      <td>NaN</td>\n",
       "      <td>2020-01-09 19:05:21.596363+00</td>\n",
       "      <td>NaN</td>\n",
       "      <td>NaN</td>\n",
       "      <td>regular</td>\n",
       "      <td>NaN</td>\n",
       "      <td>NaN</td>\n",
       "      <td>NaN</td>\n",
       "      <td>NaN</td>\n",
       "      <td>2019-12</td>\n",
       "    </tr>\n",
       "    <tr>\n",
       "      <th>1</th>\n",
       "      <td>70</td>\n",
       "      <td>100.0</td>\n",
       "      <td>rejected</td>\n",
       "      <td>2019-12-10 19:50:12.347780+00:00</td>\n",
       "      <td>2019-12-11 14:24:22.900054+00</td>\n",
       "      <td>231.0</td>\n",
       "      <td>2019-12-11 14:24:22.897988+00</td>\n",
       "      <td>NaN</td>\n",
       "      <td>2020-01-09 19:50:12.34778+00</td>\n",
       "      <td>NaN</td>\n",
       "      <td>NaN</td>\n",
       "      <td>regular</td>\n",
       "      <td>NaN</td>\n",
       "      <td>NaN</td>\n",
       "      <td>NaN</td>\n",
       "      <td>NaN</td>\n",
       "      <td>2019-12</td>\n",
       "    </tr>\n",
       "    <tr>\n",
       "      <th>2</th>\n",
       "      <td>7</td>\n",
       "      <td>100.0</td>\n",
       "      <td>rejected</td>\n",
       "      <td>2019-12-10 19:13:35.825460+00:00</td>\n",
       "      <td>2019-12-11 09:46:59.779773+00</td>\n",
       "      <td>191.0</td>\n",
       "      <td>2019-12-11 09:46:59.777728+00</td>\n",
       "      <td>NaN</td>\n",
       "      <td>2020-01-09 19:13:35.825041+00</td>\n",
       "      <td>NaN</td>\n",
       "      <td>NaN</td>\n",
       "      <td>regular</td>\n",
       "      <td>NaN</td>\n",
       "      <td>NaN</td>\n",
       "      <td>NaN</td>\n",
       "      <td>NaN</td>\n",
       "      <td>2019-12</td>\n",
       "    </tr>\n",
       "    <tr>\n",
       "      <th>3</th>\n",
       "      <td>10</td>\n",
       "      <td>99.0</td>\n",
       "      <td>rejected</td>\n",
       "      <td>2019-12-10 19:16:10.880172+00:00</td>\n",
       "      <td>2019-12-18 14:26:18.136163+00</td>\n",
       "      <td>761.0</td>\n",
       "      <td>2019-12-18 14:26:18.128407+00</td>\n",
       "      <td>NaN</td>\n",
       "      <td>2020-01-09 19:16:10.879606+00</td>\n",
       "      <td>NaN</td>\n",
       "      <td>NaN</td>\n",
       "      <td>regular</td>\n",
       "      <td>NaN</td>\n",
       "      <td>NaN</td>\n",
       "      <td>NaN</td>\n",
       "      <td>NaN</td>\n",
       "      <td>2019-12</td>\n",
       "    </tr>\n",
       "    <tr>\n",
       "      <th>4</th>\n",
       "      <td>1594</td>\n",
       "      <td>100.0</td>\n",
       "      <td>rejected</td>\n",
       "      <td>2020-05-06 09:59:38.877376+00:00</td>\n",
       "      <td>2020-05-07 09:21:55.34008+00</td>\n",
       "      <td>7686.0</td>\n",
       "      <td>2020-05-07 09:21:55.320193+00</td>\n",
       "      <td>NaN</td>\n",
       "      <td>2020-06-05 22:00:00+00</td>\n",
       "      <td>NaN</td>\n",
       "      <td>NaN</td>\n",
       "      <td>regular</td>\n",
       "      <td>NaN</td>\n",
       "      <td>NaN</td>\n",
       "      <td>NaN</td>\n",
       "      <td>NaN</td>\n",
       "      <td>2020-05</td>\n",
       "    </tr>\n",
       "  </tbody>\n",
       "</table>\n",
       "</div>"
      ],
      "text/plain": [
       "     id  amount    status                       created_at  \\\n",
       "0     5   100.0  rejected 2019-12-10 19:05:21.596873+00:00   \n",
       "1    70   100.0  rejected 2019-12-10 19:50:12.347780+00:00   \n",
       "2     7   100.0  rejected 2019-12-10 19:13:35.825460+00:00   \n",
       "3    10    99.0  rejected 2019-12-10 19:16:10.880172+00:00   \n",
       "4  1594   100.0  rejected 2020-05-06 09:59:38.877376+00:00   \n",
       "\n",
       "                      updated_at  user_id                   moderated_at  \\\n",
       "0   2019-12-11 16:47:42.40783+00    804.0  2019-12-11 16:47:42.405646+00   \n",
       "1  2019-12-11 14:24:22.900054+00    231.0  2019-12-11 14:24:22.897988+00   \n",
       "2  2019-12-11 09:46:59.779773+00    191.0  2019-12-11 09:46:59.777728+00   \n",
       "3  2019-12-18 14:26:18.136163+00    761.0  2019-12-18 14:26:18.128407+00   \n",
       "4   2020-05-07 09:21:55.34008+00   7686.0  2020-05-07 09:21:55.320193+00   \n",
       "\n",
       "   deleted_account_id             reimbursement_date  \\\n",
       "0                 NaN  2020-01-09 19:05:21.596363+00   \n",
       "1                 NaN   2020-01-09 19:50:12.34778+00   \n",
       "2                 NaN  2020-01-09 19:13:35.825041+00   \n",
       "3                 NaN  2020-01-09 19:16:10.879606+00   \n",
       "4                 NaN         2020-06-05 22:00:00+00   \n",
       "\n",
       "  cash_request_received_date money_back_date transfer_type send_at  \\\n",
       "0                        NaN             NaN       regular     NaN   \n",
       "1                        NaN             NaN       regular     NaN   \n",
       "2                        NaN             NaN       regular     NaN   \n",
       "3                        NaN             NaN       regular     NaN   \n",
       "4                        NaN             NaN       regular     NaN   \n",
       "\n",
       "  recovery_status reco_creation reco_last_update first_loan_month  \n",
       "0             NaN           NaN              NaN          2019-12  \n",
       "1             NaN           NaN              NaN          2019-12  \n",
       "2             NaN           NaN              NaN          2019-12  \n",
       "3             NaN           NaN              NaN          2019-12  \n",
       "4             NaN           NaN              NaN          2020-05  "
      ]
     },
     "execution_count": 37,
     "metadata": {},
     "output_type": "execute_result"
    }
   ],
   "source": [
    "cash.head(5)"
   ]
  },
  {
   "cell_type": "code",
   "execution_count": 38,
   "metadata": {
    "colab": {
     "base_uri": "https://localhost:8080/",
     "height": 538
    },
    "executionInfo": {
     "elapsed": 645,
     "status": "ok",
     "timestamp": 1715261492092,
     "user": {
      "displayName": "Kurtis Walton",
      "userId": "12535862951789694735"
     },
     "user_tz": -120
    },
    "id": "qsYksQgvnAuZ",
    "outputId": "21c17063-c440-42b5-d59f-5ba61c327320"
   },
   "outputs": [
    {
     "data": {
      "text/plain": [
       "<Axes: title={'center': 'Top 10 months for first loans'}, xlabel='first_loan_month'>"
      ]
     },
     "execution_count": 38,
     "metadata": {},
     "output_type": "execute_result"
    },
    {
     "data": {
      "image/png": "[encoded data removed]",
      "text/plain": [
       "<Figure size 640x480 with 1 Axes>"
      ]
     },
     "metadata": {},
     "output_type": "display_data"
    }
   ],
   "source": [
    "cash['first_loan_month'].value_counts() \\\n",
    ".head(10) \\\n",
    ".plot(kind = 'bar', title = 'Top 10 months for first loans')"
   ]
  },
  {
   "cell_type": "code",
   "execution_count": 39,
   "metadata": {
    "colab": {
     "base_uri": "https://localhost:8080/",
     "height": 447
    },
    "executionInfo": {
     "elapsed": 9,
     "status": "ok",
     "timestamp": 1715261492092,
     "user": {
      "displayName": "Kurtis Walton",
      "userId": "12535862951789694735"
     },
     "user_tz": -120
    },
    "id": "rY1jSK8ovCqA",
    "outputId": "fffa33ca-1cf8-4063-d40b-b37cd290bd6e"
   },
   "outputs": [
    {
     "data": {
      "text/plain": [
       "<Axes: ylabel='Frequency'>"
      ]
     },
     "execution_count": 39,
     "metadata": {},
     "output_type": "execute_result"
    },
    {
     "data": {
      "image/png": "[encoded data removed]",
      "text/plain": [
       "<Figure size 640x480 with 1 Axes>"
      ]
     },
     "metadata": {},
     "output_type": "display_data"
    }
   ],
   "source": [
    "cash['amount'].plot(kind = 'hist', bins = 10)"
   ]
  },
  {
   "cell_type": "code",
   "execution_count": 40,
   "metadata": {
    "colab": {
     "base_uri": "https://localhost:8080/",
     "height": 470
    },
    "executionInfo": {
     "elapsed": 461,
     "status": "ok",
     "timestamp": 1715261492548,
     "user": {
      "displayName": "Kurtis Walton",
      "userId": "12535862951789694735"
     },
     "user_tz": -120
    },
    "id": "bk9IwpES3erc",
    "outputId": "ffa3972f-2043-4059-c587-09336802da71",
    "scrolled": true
   },
   "outputs": [
    {
     "data": {
      "text/plain": [
       "<Axes: xlabel='amount', ylabel='status'>"
      ]
     },
     "execution_count": 40,
     "metadata": {},
     "output_type": "execute_result"
    },
    {
     "data": {
      "image/png": "[encoded data removed]",
      "text/plain": [
       "<Figure size 640x480 with 1 Axes>"
      ]
     },
     "metadata": {},
     "output_type": "display_data"
    }
   ],
   "source": [
    "### Feature relationships - how do different features relate to each other\n",
    "\n",
    "sns.scatterplot(x = 'amount', y = 'status', data = cash)\n"
   ]
  },
  {
   "cell_type": "raw",
   "metadata": {
    "id": "gLKBkLoG4Ppb"
   },
   "source": [
    "sns.pairplot(data = cash, vars = ['amount', 'status', 'first_loan_month'])\n",
    "\n",
    "# sale mal"
   ]
  },
  {
   "cell_type": "code",
   "execution_count": 42,
   "metadata": {
    "colab": {
     "base_uri": "https://localhost:8080/",
     "height": 530
    },
    "executionInfo": {
     "elapsed": 267,
     "status": "ok",
     "timestamp": 1715263252871,
     "user": {
      "displayName": "Kurtis Walton",
      "userId": "12535862951789694735"
     },
     "user_tz": -120
    },
    "id": "X5tnOPDU-XEU",
    "outputId": "e352ee42-9210-4421-bc97-3a38df1193e5"
   },
   "outputs": [
    {
     "data": {
      "text/html": [
       "<div>\n",
       "<style scoped>\n",
       "    .dataframe tbody tr th:only-of-type {\n",
       "        vertical-align: middle;\n",
       "    }\n",
       "\n",
       "    .dataframe tbody tr th {\n",
       "        vertical-align: top;\n",
       "    }\n",
       "\n",
       "    .dataframe thead th {\n",
       "        text-align: right;\n",
       "    }\n",
       "</style>\n",
       "<table border=\"1\" class=\"dataframe\">\n",
       "  <thead>\n",
       "    <tr style=\"text-align: right;\">\n",
       "      <th></th>\n",
       "      <th>id</th>\n",
       "      <th>cash_request_id</th>\n",
       "      <th>type</th>\n",
       "      <th>status</th>\n",
       "      <th>category</th>\n",
       "      <th>total_amount</th>\n",
       "      <th>reason</th>\n",
       "      <th>created_at</th>\n",
       "      <th>updated_at</th>\n",
       "      <th>paid_at</th>\n",
       "      <th>from_date</th>\n",
       "      <th>to_date</th>\n",
       "      <th>charge_moment</th>\n",
       "    </tr>\n",
       "  </thead>\n",
       "  <tbody>\n",
       "    <tr>\n",
       "      <th>0</th>\n",
       "      <td>6537</td>\n",
       "      <td>14941.0</td>\n",
       "      <td>instant_payment</td>\n",
       "      <td>rejected</td>\n",
       "      <td>NaN</td>\n",
       "      <td>5.0</td>\n",
       "      <td>Instant Payment Cash Request 14941</td>\n",
       "      <td>2020-09-07 10:47:27.42315+00</td>\n",
       "      <td>2020-10-13 14:25:09.396112+00</td>\n",
       "      <td>2020-12-17 14:50:07.47011+00</td>\n",
       "      <td>NaN</td>\n",
       "      <td>NaN</td>\n",
       "      <td>after</td>\n",
       "    </tr>\n",
       "    <tr>\n",
       "      <th>1</th>\n",
       "      <td>6961</td>\n",
       "      <td>11714.0</td>\n",
       "      <td>incident</td>\n",
       "      <td>accepted</td>\n",
       "      <td>rejected_direct_debit</td>\n",
       "      <td>5.0</td>\n",
       "      <td>rejected direct debit</td>\n",
       "      <td>2020-09-09 20:51:17.998653+00</td>\n",
       "      <td>2020-10-13 14:25:15.537063+00</td>\n",
       "      <td>2020-12-08 17:13:10.45908+00</td>\n",
       "      <td>NaN</td>\n",
       "      <td>NaN</td>\n",
       "      <td>after</td>\n",
       "    </tr>\n",
       "    <tr>\n",
       "      <th>2</th>\n",
       "      <td>16296</td>\n",
       "      <td>23371.0</td>\n",
       "      <td>instant_payment</td>\n",
       "      <td>accepted</td>\n",
       "      <td>NaN</td>\n",
       "      <td>5.0</td>\n",
       "      <td>Instant Payment Cash Request 23371</td>\n",
       "      <td>2020-10-23 10:10:58.352972+00</td>\n",
       "      <td>2020-10-23 10:10:58.352994+00</td>\n",
       "      <td>2020-11-04 19:34:37.43291+00</td>\n",
       "      <td>NaN</td>\n",
       "      <td>NaN</td>\n",
       "      <td>after</td>\n",
       "    </tr>\n",
       "    <tr>\n",
       "      <th>3</th>\n",
       "      <td>20775</td>\n",
       "      <td>26772.0</td>\n",
       "      <td>instant_payment</td>\n",
       "      <td>accepted</td>\n",
       "      <td>NaN</td>\n",
       "      <td>5.0</td>\n",
       "      <td>Instant Payment Cash Request 26772</td>\n",
       "      <td>2020-10-31 15:46:53.643958+00</td>\n",
       "      <td>2020-10-31 15:46:53.643982+00</td>\n",
       "      <td>2020-11-19 05:09:22.500223+00</td>\n",
       "      <td>NaN</td>\n",
       "      <td>NaN</td>\n",
       "      <td>after</td>\n",
       "    </tr>\n",
       "    <tr>\n",
       "      <th>4</th>\n",
       "      <td>11242</td>\n",
       "      <td>19350.0</td>\n",
       "      <td>instant_payment</td>\n",
       "      <td>accepted</td>\n",
       "      <td>NaN</td>\n",
       "      <td>5.0</td>\n",
       "      <td>Instant Payment Cash Request 19350</td>\n",
       "      <td>2020-10-06 08:20:17.170432+00</td>\n",
       "      <td>2020-10-13 14:25:03.267983+00</td>\n",
       "      <td>2020-11-02 14:45:20.355598+00</td>\n",
       "      <td>NaN</td>\n",
       "      <td>NaN</td>\n",
       "      <td>after</td>\n",
       "    </tr>\n",
       "  </tbody>\n",
       "</table>\n",
       "</div>"
      ],
      "text/plain": [
       "      id  cash_request_id             type    status               category  \\\n",
       "0   6537          14941.0  instant_payment  rejected                    NaN   \n",
       "1   6961          11714.0         incident  accepted  rejected_direct_debit   \n",
       "2  16296          23371.0  instant_payment  accepted                    NaN   \n",
       "3  20775          26772.0  instant_payment  accepted                    NaN   \n",
       "4  11242          19350.0  instant_payment  accepted                    NaN   \n",
       "\n",
       "   total_amount                              reason  \\\n",
       "0           5.0  Instant Payment Cash Request 14941   \n",
       "1           5.0               rejected direct debit   \n",
       "2           5.0  Instant Payment Cash Request 23371   \n",
       "3           5.0  Instant Payment Cash Request 26772   \n",
       "4           5.0  Instant Payment Cash Request 19350   \n",
       "\n",
       "                      created_at                     updated_at  \\\n",
       "0   2020-09-07 10:47:27.42315+00  2020-10-13 14:25:09.396112+00   \n",
       "1  2020-09-09 20:51:17.998653+00  2020-10-13 14:25:15.537063+00   \n",
       "2  2020-10-23 10:10:58.352972+00  2020-10-23 10:10:58.352994+00   \n",
       "3  2020-10-31 15:46:53.643958+00  2020-10-31 15:46:53.643982+00   \n",
       "4  2020-10-06 08:20:17.170432+00  2020-10-13 14:25:03.267983+00   \n",
       "\n",
       "                         paid_at from_date to_date charge_moment  \n",
       "0   2020-12-17 14:50:07.47011+00       NaN     NaN         after  \n",
       "1   2020-12-08 17:13:10.45908+00       NaN     NaN         after  \n",
       "2   2020-11-04 19:34:37.43291+00       NaN     NaN         after  \n",
       "3  2020-11-19 05:09:22.500223+00       NaN     NaN         after  \n",
       "4  2020-11-02 14:45:20.355598+00       NaN     NaN         after  "
      ]
     },
     "execution_count": 42,
     "metadata": {},
     "output_type": "execute_result"
    }
   ],
   "source": [
    "fees.head(5)"
   ]
  },
  {
   "cell_type": "code",
   "execution_count": 43,
   "metadata": {
    "executionInfo": {
     "elapsed": 9,
     "status": "aborted",
     "timestamp": 1715261496920,
     "user": {
      "displayName": "Kurtis Walton",
      "userId": "12535862951789694735"
     },
     "user_tz": -120
    },
    "id": "AjljPIfAOzn1"
   },
   "outputs": [
    {
     "data": {
      "image/png": "[encoded data removed]",
      "text/plain": [
       "<Figure size 800x800 with 2 Axes>"
      ]
     },
     "metadata": {},
     "output_type": "display_data"
    }
   ],
   "source": [
    "# @title type vs status\n",
    "\n",
    "plt.subplots(figsize=(8, 8))\n",
    "df_2dhist = pd.DataFrame({\n",
    "    x_label: grp['status'].value_counts()\n",
    "    for x_label, grp in fees.groupby('type')\n",
    "})\n",
    "sns.heatmap(df_2dhist, cmap='viridis')\n",
    "plt.xlabel('type')\n",
    "_ = plt.ylabel('status')"
   ]
  },
  {
   "cell_type": "code",
   "execution_count": 44,
   "metadata": {
    "executionInfo": {
     "elapsed": 9,
     "status": "aborted",
     "timestamp": 1715261496920,
     "user": {
      "displayName": "Kurtis Walton",
      "userId": "12535862951789694735"
     },
     "user_tz": -120
    },
    "id": "hoJrTatQMqFv"
   },
   "outputs": [
    {
     "data": {
      "text/plain": [
       "{'created_at', 'id', 'status', 'updated_at'}"
      ]
     },
     "execution_count": 44,
     "metadata": {},
     "output_type": "execute_result"
    }
   ],
   "source": [
    "# Check if the two datasets cash and fees share any columns in common\n",
    "\n",
    "columns_cash = cash.columns\n",
    "columns_fees = fees.columns\n",
    "\n",
    "common_columns = set(columns_cash) & set(columns_fees)\n",
    "\n",
    "common_columns"
   ]
  },
  {
   "cell_type": "code",
   "execution_count": 45,
   "metadata": {
    "colab": {
     "base_uri": "https://localhost:8080/"
    },
    "executionInfo": {
     "elapsed": 333,
     "status": "ok",
     "timestamp": 1715262051151,
     "user": {
      "displayName": "Kurtis Walton",
      "userId": "12535862951789694735"
     },
     "user_tz": -120
    },
    "id": "HTsKQPIbQgug",
    "outputId": "3491ea94-fb2e-4f17-84e4-32f295a5f71f"
   },
   "outputs": [
    {
     "data": {
      "text/plain": [
       "False"
      ]
     },
     "execution_count": 45,
     "metadata": {},
     "output_type": "execute_result"
    }
   ],
   "source": [
    "#Compare rows\n",
    "\n",
    "columns_compared = cash['created_at'].equals(fees['created_at'])\n",
    "\n",
    "columns_compared"
   ]
  },
  {
   "cell_type": "code",
   "execution_count": 46,
   "metadata": {
    "colab": {
     "base_uri": "https://localhost:8080/",
     "height": 732
    },
    "executionInfo": {
     "elapsed": 1668,
     "status": "ok",
     "timestamp": 1715262374182,
     "user": {
      "displayName": "Kurtis Walton",
      "userId": "12535862951789694735"
     },
     "user_tz": -120
    },
    "id": "clDaGjrnldB_",
    "outputId": "4d991097-2e6e-4d5b-ca96-95fac6cfb3d6"
   },
   "outputs": [
    {
     "data": {
      "image/png": "[encoded data removed]",
      "text/plain": [
       "<Figure size 1000x800 with 1 Axes>"
      ]
     },
     "metadata": {},
     "output_type": "display_data"
    }
   ],
   "source": [
    "# Count occurrences of each user ID in the 'created_at' column\n",
    "user_counts = cash['user_id'].value_counts()\n",
    "\n",
    "# Count the occurrences of each count (i.e., number of times a user ID appears)\n",
    "count_counts = user_counts.value_counts().sort_index()\n",
    "\n",
    "# Plot a bar chart\n",
    "plt.figure(figsize=(10, 8))\n",
    "count_counts.plot(kind='bar')\n",
    "plt.title('Number of Times Each User ID Appears in \"created_at\" Column')\n",
    "plt.xlabel('Number of Times User ID Appears')\n",
    "plt.ylabel('Number of User IDs')\n",
    "plt.xticks(rotation=45)\n",
    "plt.show()"
   ]
  },
  {
   "cell_type": "code",
   "execution_count": 47,
   "metadata": {
    "colab": {
     "base_uri": "https://localhost:8080/",
     "height": 309
    },
    "executionInfo": {
     "elapsed": 1081,
     "status": "ok",
     "timestamp": 1715263736586,
     "user": {
      "displayName": "Kurtis Walton",
      "userId": "12535862951789694735"
     },
     "user_tz": -120
    },
    "id": "DvNME4dBr2_u",
    "outputId": "f8b0fba2-0eaf-4dab-df90-ccd155c7b4bf"
   },
   "outputs": [
    {
     "data": {
      "text/html": [
       "<div>\n",
       "<style scoped>\n",
       "    .dataframe tbody tr th:only-of-type {\n",
       "        vertical-align: middle;\n",
       "    }\n",
       "\n",
       "    .dataframe tbody tr th {\n",
       "        vertical-align: top;\n",
       "    }\n",
       "\n",
       "    .dataframe thead th {\n",
       "        text-align: right;\n",
       "    }\n",
       "</style>\n",
       "<table border=\"1\" class=\"dataframe\">\n",
       "  <thead>\n",
       "    <tr style=\"text-align: right;\">\n",
       "      <th></th>\n",
       "      <th>id</th>\n",
       "      <th>amount</th>\n",
       "      <th>status</th>\n",
       "      <th>created_at</th>\n",
       "      <th>updated_at</th>\n",
       "      <th>user_id</th>\n",
       "      <th>moderated_at</th>\n",
       "      <th>deleted_account_id</th>\n",
       "      <th>reimbursement_date</th>\n",
       "      <th>cash_request_received_date</th>\n",
       "      <th>money_back_date</th>\n",
       "      <th>transfer_type</th>\n",
       "      <th>send_at</th>\n",
       "      <th>recovery_status</th>\n",
       "      <th>reco_creation</th>\n",
       "      <th>reco_last_update</th>\n",
       "      <th>first_loan_month</th>\n",
       "    </tr>\n",
       "  </thead>\n",
       "  <tbody>\n",
       "    <tr>\n",
       "      <th>0</th>\n",
       "      <td>5</td>\n",
       "      <td>100.0</td>\n",
       "      <td>rejected</td>\n",
       "      <td>2019-12-10 19:05:21.596873+00:00</td>\n",
       "      <td>2019-12-11 16:47:42.40783+00</td>\n",
       "      <td>804.0</td>\n",
       "      <td>2019-12-11 16:47:42.405646+00</td>\n",
       "      <td>NaN</td>\n",
       "      <td>2020-01-09 19:05:21.596363+00</td>\n",
       "      <td>NaN</td>\n",
       "      <td>NaN</td>\n",
       "      <td>regular</td>\n",
       "      <td>NaN</td>\n",
       "      <td>NaN</td>\n",
       "      <td>NaN</td>\n",
       "      <td>NaN</td>\n",
       "      <td>2019-12</td>\n",
       "    </tr>\n",
       "    <tr>\n",
       "      <th>1</th>\n",
       "      <td>70</td>\n",
       "      <td>100.0</td>\n",
       "      <td>rejected</td>\n",
       "      <td>2019-12-10 19:50:12.347780+00:00</td>\n",
       "      <td>2019-12-11 14:24:22.900054+00</td>\n",
       "      <td>231.0</td>\n",
       "      <td>2019-12-11 14:24:22.897988+00</td>\n",
       "      <td>NaN</td>\n",
       "      <td>2020-01-09 19:50:12.34778+00</td>\n",
       "      <td>NaN</td>\n",
       "      <td>NaN</td>\n",
       "      <td>regular</td>\n",
       "      <td>NaN</td>\n",
       "      <td>NaN</td>\n",
       "      <td>NaN</td>\n",
       "      <td>NaN</td>\n",
       "      <td>2019-12</td>\n",
       "    </tr>\n",
       "    <tr>\n",
       "      <th>2</th>\n",
       "      <td>7</td>\n",
       "      <td>100.0</td>\n",
       "      <td>rejected</td>\n",
       "      <td>2019-12-10 19:13:35.825460+00:00</td>\n",
       "      <td>2019-12-11 09:46:59.779773+00</td>\n",
       "      <td>191.0</td>\n",
       "      <td>2019-12-11 09:46:59.777728+00</td>\n",
       "      <td>NaN</td>\n",
       "      <td>2020-01-09 19:13:35.825041+00</td>\n",
       "      <td>NaN</td>\n",
       "      <td>NaN</td>\n",
       "      <td>regular</td>\n",
       "      <td>NaN</td>\n",
       "      <td>NaN</td>\n",
       "      <td>NaN</td>\n",
       "      <td>NaN</td>\n",
       "      <td>2019-12</td>\n",
       "    </tr>\n",
       "    <tr>\n",
       "      <th>3</th>\n",
       "      <td>10</td>\n",
       "      <td>99.0</td>\n",
       "      <td>rejected</td>\n",
       "      <td>2019-12-10 19:16:10.880172+00:00</td>\n",
       "      <td>2019-12-18 14:26:18.136163+00</td>\n",
       "      <td>761.0</td>\n",
       "      <td>2019-12-18 14:26:18.128407+00</td>\n",
       "      <td>NaN</td>\n",
       "      <td>2020-01-09 19:16:10.879606+00</td>\n",
       "      <td>NaN</td>\n",
       "      <td>NaN</td>\n",
       "      <td>regular</td>\n",
       "      <td>NaN</td>\n",
       "      <td>NaN</td>\n",
       "      <td>NaN</td>\n",
       "      <td>NaN</td>\n",
       "      <td>2019-12</td>\n",
       "    </tr>\n",
       "    <tr>\n",
       "      <th>4</th>\n",
       "      <td>1594</td>\n",
       "      <td>100.0</td>\n",
       "      <td>rejected</td>\n",
       "      <td>2020-05-06 09:59:38.877376+00:00</td>\n",
       "      <td>2020-05-07 09:21:55.34008+00</td>\n",
       "      <td>7686.0</td>\n",
       "      <td>2020-05-07 09:21:55.320193+00</td>\n",
       "      <td>NaN</td>\n",
       "      <td>2020-06-05 22:00:00+00</td>\n",
       "      <td>NaN</td>\n",
       "      <td>NaN</td>\n",
       "      <td>regular</td>\n",
       "      <td>NaN</td>\n",
       "      <td>NaN</td>\n",
       "      <td>NaN</td>\n",
       "      <td>NaN</td>\n",
       "      <td>2020-05</td>\n",
       "    </tr>\n",
       "  </tbody>\n",
       "</table>\n",
       "</div>"
      ],
      "text/plain": [
       "     id  amount    status                       created_at  \\\n",
       "0     5   100.0  rejected 2019-12-10 19:05:21.596873+00:00   \n",
       "1    70   100.0  rejected 2019-12-10 19:50:12.347780+00:00   \n",
       "2     7   100.0  rejected 2019-12-10 19:13:35.825460+00:00   \n",
       "3    10    99.0  rejected 2019-12-10 19:16:10.880172+00:00   \n",
       "4  1594   100.0  rejected 2020-05-06 09:59:38.877376+00:00   \n",
       "\n",
       "                      updated_at  user_id                   moderated_at  \\\n",
       "0   2019-12-11 16:47:42.40783+00    804.0  2019-12-11 16:47:42.405646+00   \n",
       "1  2019-12-11 14:24:22.900054+00    231.0  2019-12-11 14:24:22.897988+00   \n",
       "2  2019-12-11 09:46:59.779773+00    191.0  2019-12-11 09:46:59.777728+00   \n",
       "3  2019-12-18 14:26:18.136163+00    761.0  2019-12-18 14:26:18.128407+00   \n",
       "4   2020-05-07 09:21:55.34008+00   7686.0  2020-05-07 09:21:55.320193+00   \n",
       "\n",
       "   deleted_account_id             reimbursement_date  \\\n",
       "0                 NaN  2020-01-09 19:05:21.596363+00   \n",
       "1                 NaN   2020-01-09 19:50:12.34778+00   \n",
       "2                 NaN  2020-01-09 19:13:35.825041+00   \n",
       "3                 NaN  2020-01-09 19:16:10.879606+00   \n",
       "4                 NaN         2020-06-05 22:00:00+00   \n",
       "\n",
       "  cash_request_received_date money_back_date transfer_type send_at  \\\n",
       "0                        NaN             NaN       regular     NaN   \n",
       "1                        NaN             NaN       regular     NaN   \n",
       "2                        NaN             NaN       regular     NaN   \n",
       "3                        NaN             NaN       regular     NaN   \n",
       "4                        NaN             NaN       regular     NaN   \n",
       "\n",
       "  recovery_status reco_creation reco_last_update first_loan_month  \n",
       "0             NaN           NaN              NaN          2019-12  \n",
       "1             NaN           NaN              NaN          2019-12  \n",
       "2             NaN           NaN              NaN          2019-12  \n",
       "3             NaN           NaN              NaN          2019-12  \n",
       "4             NaN           NaN              NaN          2020-05  "
      ]
     },
     "execution_count": 47,
     "metadata": {},
     "output_type": "execute_result"
    }
   ],
   "source": [
    "cash.head(5)"
   ]
  },
  {
   "cell_type": "code",
   "execution_count": 48,
   "metadata": {
    "colab": {
     "base_uri": "https://localhost:8080/",
     "height": 483
    },
    "executionInfo": {
     "elapsed": 280,
     "status": "ok",
     "timestamp": 1715264239964,
     "user": {
      "displayName": "Kurtis Walton",
      "userId": "12535862951789694735"
     },
     "user_tz": -120
    },
    "id": "zzj2lxoAmNur",
    "outputId": "084cd528-803e-42b6-8e1b-7207dab731a6"
   },
   "outputs": [
    {
     "data": {
      "text/html": [
       "<div>\n",
       "<style scoped>\n",
       "    .dataframe tbody tr th:only-of-type {\n",
       "        vertical-align: middle;\n",
       "    }\n",
       "\n",
       "    .dataframe tbody tr th {\n",
       "        vertical-align: top;\n",
       "    }\n",
       "\n",
       "    .dataframe thead th {\n",
       "        text-align: right;\n",
       "    }\n",
       "</style>\n",
       "<table border=\"1\" class=\"dataframe\">\n",
       "  <thead>\n",
       "    <tr style=\"text-align: right;\">\n",
       "      <th></th>\n",
       "      <th>mean</th>\n",
       "      <th>min</th>\n",
       "      <th>max</th>\n",
       "      <th>sum</th>\n",
       "    </tr>\n",
       "    <tr>\n",
       "      <th>first_loan_month</th>\n",
       "      <th></th>\n",
       "      <th></th>\n",
       "      <th></th>\n",
       "      <th></th>\n",
       "    </tr>\n",
       "  </thead>\n",
       "  <tbody>\n",
       "    <tr>\n",
       "      <th>2019-11</th>\n",
       "      <td>29.000000</td>\n",
       "      <td>1.0</td>\n",
       "      <td>100.0</td>\n",
       "      <td>232.0</td>\n",
       "    </tr>\n",
       "    <tr>\n",
       "      <th>2019-12</th>\n",
       "      <td>94.939530</td>\n",
       "      <td>1.0</td>\n",
       "      <td>100.0</td>\n",
       "      <td>84781.0</td>\n",
       "    </tr>\n",
       "    <tr>\n",
       "      <th>2020-01</th>\n",
       "      <td>96.897196</td>\n",
       "      <td>50.0</td>\n",
       "      <td>100.0</td>\n",
       "      <td>31104.0</td>\n",
       "    </tr>\n",
       "    <tr>\n",
       "      <th>2020-02</th>\n",
       "      <td>94.035461</td>\n",
       "      <td>1.0</td>\n",
       "      <td>200.0</td>\n",
       "      <td>39777.0</td>\n",
       "    </tr>\n",
       "    <tr>\n",
       "      <th>2020-03</th>\n",
       "      <td>97.693498</td>\n",
       "      <td>10.0</td>\n",
       "      <td>200.0</td>\n",
       "      <td>31555.0</td>\n",
       "    </tr>\n",
       "    <tr>\n",
       "      <th>2020-04</th>\n",
       "      <td>94.338095</td>\n",
       "      <td>1.0</td>\n",
       "      <td>200.0</td>\n",
       "      <td>79244.0</td>\n",
       "    </tr>\n",
       "    <tr>\n",
       "      <th>2020-05</th>\n",
       "      <td>92.931677</td>\n",
       "      <td>1.0</td>\n",
       "      <td>200.0</td>\n",
       "      <td>134658.0</td>\n",
       "    </tr>\n",
       "    <tr>\n",
       "      <th>2020-06</th>\n",
       "      <td>90.327107</td>\n",
       "      <td>1.0</td>\n",
       "      <td>200.0</td>\n",
       "      <td>425531.0</td>\n",
       "    </tr>\n",
       "    <tr>\n",
       "      <th>2020-07</th>\n",
       "      <td>85.910843</td>\n",
       "      <td>10.0</td>\n",
       "      <td>100.0</td>\n",
       "      <td>320877.0</td>\n",
       "    </tr>\n",
       "    <tr>\n",
       "      <th>2020-08</th>\n",
       "      <td>77.317881</td>\n",
       "      <td>10.0</td>\n",
       "      <td>100.0</td>\n",
       "      <td>116750.0</td>\n",
       "    </tr>\n",
       "    <tr>\n",
       "      <th>2020-09</th>\n",
       "      <td>74.646055</td>\n",
       "      <td>2.0</td>\n",
       "      <td>100.0</td>\n",
       "      <td>196767.0</td>\n",
       "    </tr>\n",
       "    <tr>\n",
       "      <th>2020-10</th>\n",
       "      <td>68.790208</td>\n",
       "      <td>1.0</td>\n",
       "      <td>100.0</td>\n",
       "      <td>340030.0</td>\n",
       "    </tr>\n",
       "    <tr>\n",
       "      <th>2020-11</th>\n",
       "      <td>77.466667</td>\n",
       "      <td>25.0</td>\n",
       "      <td>100.0</td>\n",
       "      <td>5810.0</td>\n",
       "    </tr>\n",
       "  </tbody>\n",
       "</table>\n",
       "</div>"
      ],
      "text/plain": [
       "                       mean   min    max       sum\n",
       "first_loan_month                                  \n",
       "2019-11           29.000000   1.0  100.0     232.0\n",
       "2019-12           94.939530   1.0  100.0   84781.0\n",
       "2020-01           96.897196  50.0  100.0   31104.0\n",
       "2020-02           94.035461   1.0  200.0   39777.0\n",
       "2020-03           97.693498  10.0  200.0   31555.0\n",
       "2020-04           94.338095   1.0  200.0   79244.0\n",
       "2020-05           92.931677   1.0  200.0  134658.0\n",
       "2020-06           90.327107   1.0  200.0  425531.0\n",
       "2020-07           85.910843  10.0  100.0  320877.0\n",
       "2020-08           77.317881  10.0  100.0  116750.0\n",
       "2020-09           74.646055   2.0  100.0  196767.0\n",
       "2020-10           68.790208   1.0  100.0  340030.0\n",
       "2020-11           77.466667  25.0  100.0    5810.0"
      ]
     },
     "execution_count": 48,
     "metadata": {},
     "output_type": "execute_result"
    }
   ],
   "source": [
    "cash.groupby('first_loan_month')['amount'].agg(['mean', 'min', 'max', 'sum'])"
   ]
  },
  {
   "cell_type": "code",
   "execution_count": 49,
   "metadata": {
    "colab": {
     "base_uri": "https://localhost:8080/"
    },
    "executionInfo": {
     "elapsed": 234,
     "status": "ok",
     "timestamp": 1715263952368,
     "user": {
      "displayName": "Kurtis Walton",
      "userId": "12535862951789694735"
     },
     "user_tz": -120
    },
    "id": "Yxfl372ssHbZ",
    "outputId": "647e3aae-f8be-416a-f020-30a9a6b47840"
   },
   "outputs": [
    {
     "data": {
      "text/plain": [
       "1807116.0"
      ]
     },
     "execution_count": 49,
     "metadata": {},
     "output_type": "execute_result"
    }
   ],
   "source": [
    "cash['amount'].sum()"
   ]
  },
  {
   "cell_type": "code",
   "execution_count": null,
   "metadata": {
    "id": "Mm1qjuyIsAq1"
   },
   "outputs": [],
   "source": [
    "\n"
   ]
  }
 ],
 "metadata": {
  "colab": {
   "authorship_tag": "ABX9TyOVfe5V6iIIWHuGh/0KKMRS",
   "provenance": [
    {
     "file_id": "1qRL8d-ljBuHSizruCiJkiFZfLfIHSVvO",
     "timestamp": 1715237436590
    }
   ]
  },
  "kernelspec": {
   "display_name": "Python 3 (ipykernel)",
   "language": "python",
   "name": "python3"
  },
  "language_info": {
   "codemirror_mode": {
    "name": "ipython",
    "version": 3
   },
   "file_extension": ".py",
   "mimetype": "text/x-python",
   "name": "python",
   "nbconvert_exporter": "python",
   "pygments_lexer": "ipython3",
   "version": "3.9.6"
  }
 },
 "nbformat": 4,
 "nbformat_minor": 4
}
